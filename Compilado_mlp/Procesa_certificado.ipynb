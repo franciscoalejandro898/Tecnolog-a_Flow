{
 "cells": [
  {
   "cell_type": "code",
   "execution_count": null,
   "metadata": {},
   "outputs": [],
   "source": [
    "import pandas as pd\n",
    "\n",
    "# Cargar el archivo Excel\n",
    "file_path = 'C:\\\\Users\\\\fdona\\\\OneDrive\\\\Escritorio\\\\Compilado_Mpl_FD\\\\SUBTERRRANEAS_OBRAS_LINEALES\\\\9.Sondaje AP Los Vilos_FDDD.xlsx'\n",
    "xls = pd.ExcelFile(file_path)\n",
    "\n",
    "\n",
    "data_identificacion = pd.read_excel(xls, sheet_name='(2020)', skiprows=132, nrows=8, usecols=\"C:Z\")\n",
    "\n",
    "\n",
    "data_identificacion_transposed = data_identificacion.transpose()\n",
    "\n",
    "\n",
    "data_identificacion_transposed.columns = data_identificacion_transposed.iloc[0]\n",
    "data_identificacion_transposed = data_identificacion_transposed.drop(data_identificacion_transposed.index[0])\n",
    "\n",
    "\n",
    "data_identificacion_transposed\n"
   ]
  },
  {
   "cell_type": "code",
   "execution_count": null,
   "metadata": {},
   "outputs": [],
   "source": [
    "data_identificacion_transposed.columns = ['Fecha', 'Id_Certificado', 'Comentarios', 'Año_QAQC', 'Fecha_QAQC', 'Mes_QAQC', 'Muestras_Con_Datos', 'Muestras_Totales']"
   ]
  },
  {
   "cell_type": "code",
   "execution_count": null,
   "metadata": {},
   "outputs": [],
   "source": [
    "data_identificacion_transposed"
   ]
  },
  {
   "cell_type": "code",
   "execution_count": null,
   "metadata": {},
   "outputs": [],
   "source": [
    "data_identificacion_transposed['Index_Column'] = data_identificacion_transposed.index\n",
    "\n",
    "# Reiniciar el índice para crear un nuevo índice  AUTOincremental\n",
    "data_identificacion_transposed.reset_index(drop=True, inplace=True)"
   ]
  },
  {
   "cell_type": "code",
   "execution_count": null,
   "metadata": {},
   "outputs": [],
   "source": [
    "\n",
    "data_identificacion_transposed.columns = ['Fecha', 'Id_Certificado', 'Comentarios', 'Año_QAQC', 'Fecha_QAQC', 'Mes_QAQC', 'Muestras_Con_Datos', 'Muestras_Totales', 'Estacion']\n",
    "data_identificacion_transposed"
   ]
  },
  {
   "cell_type": "code",
   "execution_count": null,
   "metadata": {},
   "outputs": [],
   "source": [
    "data_identificacion_transposed = data_identificacion_transposed[['Estacion','Fecha', 'Id_Certificado', 'Comentarios', 'Año_QAQC', 'Fecha_QAQC', 'Mes_QAQC', 'Muestras_Con_Datos', 'Muestras_Totales']]"
   ]
  },
  {
   "cell_type": "code",
   "execution_count": null,
   "metadata": {},
   "outputs": [],
   "source": [
    "data_identificacion_transposed\n"
   ]
  },
  {
   "cell_type": "markdown",
   "metadata": {},
   "source": [
    "EXTRAEMOS LA TABLA DE PARAMETROS"
   ]
  },
  {
   "cell_type": "code",
   "execution_count": null,
   "metadata": {},
   "outputs": [],
   "source": [
    "import pandas as pd\n",
    "\n",
    "\n",
    "file_path = 'C:\\\\Users\\\\fdona\\\\OneDrive\\\\Escritorio\\\\Compilado_Mpl_FD\\\\SUBTERRRANEAS_OBRAS_LINEALES\\\\9.Sondaje AP Los Vilos_FDDD.xlsx'\n",
    "xls = pd.ExcelFile(file_path)\n",
    "\n",
    "\n",
    "data_df = pd.read_excel(xls, sheet_name='(2020)', usecols=\"B:Z\", skiprows=141, nrows=99)\n",
    "\n",
    "\n",
    "print(data_df.head())"
   ]
  },
  {
   "cell_type": "markdown",
   "metadata": {},
   "source": [
    "ELIMINAMOS COLUMNA DE CELDA C () VACIA O CONTIENE UNIDADES DE MEDIDA"
   ]
  },
  {
   "cell_type": "code",
   "execution_count": null,
   "metadata": {},
   "outputs": [],
   "source": [
    "data_df.drop(data_df.columns[1], axis=1, inplace=True)\n",
    "\n",
    "\n",
    "data_df.head()"
   ]
  },
  {
   "cell_type": "markdown",
   "metadata": {},
   "source": [
    "PIVOTEAMOS PARA OBTENER FORMATO TABULAR"
   ]
  },
  {
   "cell_type": "code",
   "execution_count": null,
   "metadata": {},
   "outputs": [],
   "source": [
    "\n",
    "data_pivoted = data_df.T\n",
    "\n",
    "# PARAMETROS COMO COLUMNAS\n",
    "new_header = data_pivoted.iloc[0]  \n",
    "data_pivoted = data_pivoted[1:]  \n",
    "data_pivoted.columns = new_header  \n",
    "\n",
    "\n",
    "data_pivoted.reset_index(drop=True, inplace=True)\n",
    "\n",
    "\n",
    "data_pivoted"
   ]
  },
  {
   "cell_type": "markdown",
   "metadata": {},
   "source": [
    "Juntar data identificacion y data parametros"
   ]
  },
  {
   "cell_type": "code",
   "execution_count": null,
   "metadata": {},
   "outputs": [],
   "source": [
    "df_merged = pd.concat([data_identificacion_transposed, data_pivoted], axis=1)\n",
    "df_merged"
   ]
  },
  {
   "cell_type": "code",
   "execution_count": null,
   "metadata": {},
   "outputs": [],
   "source": [
    "\n",
    "df_merged['Estacion'] = df_merged['Estacion'].str.replace(r'\\..*$', '', regex=True)\n",
    "\n",
    "\n",
    "df_merged\n"
   ]
  },
  {
   "cell_type": "markdown",
   "metadata": {},
   "source": [
    "OBTENER ULTIMA CELDA CON VALOR (HORIZONTALMENTE)"
   ]
  },
  {
   "cell_type": "code",
   "execution_count": null,
   "metadata": {},
   "outputs": [],
   "source": [
    "import openpyxl\n",
    "\n",
    "\n",
    "wb = openpyxl.load_workbook('C:\\\\Users\\\\fdona\\\\OneDrive\\\\Escritorio\\\\Compilado_Mpl_FD\\\\SUBTERRRANEAS_OBRAS_LINEALES\\\\9.Sondaje AP Los Vilos_FDDD.xlsx')\n",
    "hoja = wb['(2020)']\n",
    "rango = hoja['C133:AZ133']\n",
    "\n",
    "\n",
    "ultima_celda_con_datos = None\n",
    "for celda in rango[0]:  # rango[0] porque es una sola fila\n",
    "    if celda.value is not None:\n",
    "        ultima_celda_con_datos = celda\n",
    "\n",
    "if ultima_celda_con_datos:\n",
    "    # Extraer solo las letras de la coordenada (columna)\n",
    "    columna = ''.join(filter(str.isalpha, ultima_celda_con_datos.coordinate))\n",
    "    print(f'La última columna con datos es {columna}')\n",
    "else:\n",
    "    print('No hay datos en el rango C133:AZ133')"
   ]
  },
  {
   "cell_type": "markdown",
   "metadata": {},
   "source": [
    "OBTENER Y RECORRER HOJAS DE UN ARCHIVO"
   ]
  },
  {
   "cell_type": "code",
   "execution_count": null,
   "metadata": {},
   "outputs": [],
   "source": [
    "import pandas as pd\n",
    "import openpyxl\n",
    "\n",
    "# Ruta al archivp\n",
    "path_to_file = \"C:\\\\Users\\\\fdona\\\\OneDrive\\\\Escritorio\\\\Compilado_Mpl_FD\\\\SUBTERRRANEAS_OBRAS_LINEALES\\\\9.Sondaje AP Los Vilos_FDDD.xlsx\"\n",
    "xls = pd.ExcelFile(path_to_file)\n",
    "wb = openpyxl.load_workbook(path_to_file)\n",
    "data_total = pd.DataFrame()\n",
    "for hoja_archivo in xls.sheet_names:\n",
    "    hoja = wb[hoja_archivo]\n",
    "    rango = hoja['C133:AZ133']\n",
    "\n",
    "    ultima_celda_con_datos = None\n",
    "    for celda in rango[0]:  # rango[0] porque es una sola fila\n",
    "        if celda.value is not None:\n",
    "            ultima_celda_con_datos = celda\n",
    "\n",
    "    if ultima_celda_con_datos:\n",
    "    # Extraer solo las letras de la coordenada (columna)\n",
    "        columna = ''.join(filter(str.isalpha, ultima_celda_con_datos.coordinate))\n",
    "        print(f'La última columna con datos es {columna}, en la hoja: {hoja_archivo}')\n",
    "    \n",
    "    \n",
    "        data_identificacion = pd.read_excel(xls, sheet_name= hoja_archivo, skiprows=132, nrows=8, usecols=f\"C:{columna}\")\n",
    "\n",
    "\n",
    "        data_identificacion_transposed = data_identificacion.transpose()\n",
    "\n",
    "\n",
    "        data_identificacion_transposed.columns = data_identificacion_transposed.iloc[0]\n",
    "        data_identificacion_transposed = data_identificacion_transposed.drop(data_identificacion_transposed.index[0])\n",
    "        # nombramiento de columnmas\n",
    "        data_identificacion_transposed.columns = ['Fecha', 'Id_Certificado', 'Comentarios', 'Año_QAQC', 'Fecha_QAQC', 'Mes_QAQC', 'Muestras_Con_Datos', 'Muestras_Totales']\n",
    "        data_identificacion_transposed['Index_Column'] = data_identificacion_transposed.index\n",
    "\n",
    "        # Reiniciar el índice para crear un nuevo índice  AUTOincremental\n",
    "        data_identificacion_transposed.reset_index(drop=True, inplace=True)\n",
    "        data_identificacion_transposed.columns = ['Fecha', 'Id_Certificado', 'Comentarios', 'Año_QAQC', 'Fecha_QAQC', 'Mes_QAQC', 'Muestras_Con_Datos', 'Muestras_Totales', 'Estacion']\n",
    "        # ORDEN DE LA COLUMNAS \n",
    "        data_identificacion_transposed = data_identificacion_transposed[['Estacion','Fecha', 'Id_Certificado', 'Comentarios', 'Año_QAQC', 'Fecha_QAQC', 'Mes_QAQC', 'Muestras_Con_Datos', 'Muestras_Totales']]\n",
    "        # data_identificacion total\n",
    "        data_total = pd.concat([data_total, data_identificacion_transposed], ignore_index=True)\n",
    "    else:\n",
    "        print(f'No hay datos en el rango C133:AZ133, para la hoja: {hoja_archivo}')\n",
    "\n",
    "\n",
    "data_total"
   ]
  }
 ],
 "metadata": {
  "kernelspec": {
   "display_name": "env",
   "language": "python",
   "name": "python3"
  },
  "language_info": {
   "codemirror_mode": {
    "name": "ipython",
    "version": 3
   },
   "file_extension": ".py",
   "mimetype": "text/x-python",
   "name": "python",
   "nbconvert_exporter": "python",
   "pygments_lexer": "ipython3",
   "version": "3.12.0"
  }
 },
 "nbformat": 4,
 "nbformat_minor": 2
}
