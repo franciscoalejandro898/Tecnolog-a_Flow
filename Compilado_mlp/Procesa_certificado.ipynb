{
 "cells": [
  {
   "cell_type": "code",
   "execution_count": null,
   "metadata": {},
   "outputs": [],
   "source": [
    "import pandas as pd\n",
    "\n",
    "# Cargar el archivo Excel\n",
    "file_path = 'C:\\\\Users\\\\fdona\\\\OneDrive\\\\Escritorio\\\\Compilado_Mpl_FD\\\\SUBTERRRANEAS_OBRAS_LINEALES\\\\9.Sondaje AP Los Vilos_FDDD.xlsx'\n",
    "xls = pd.ExcelFile(file_path)\n",
    "\n",
    "\n",
    "data_identificacion = pd.read_excel(xls, sheet_name='(2020)', skiprows=132, nrows=8, usecols=\"C:Z\")\n",
    "\n",
    "\n",
    "data_identificacion_transposed = data_identificacion.transpose()\n",
    "\n",
    "\n",
    "data_identificacion_transposed.columns = data_identificacion_transposed.iloc[0]\n",
    "data_identificacion_transposed = data_identificacion_transposed.drop(data_identificacion_transposed.index[0])\n",
    "\n",
    "\n",
    "data_identificacion_transposed\n"
   ]
  },
  {
   "cell_type": "code",
   "execution_count": null,
   "metadata": {},
   "outputs": [],
   "source": [
    "data_identificacion_transposed.columns = ['Fecha', 'Id_Certificado', 'Comentarios', 'Año_QAQC', 'Fecha_QAQC', 'Mes_QAQC', 'Muestras_Con_Datos', 'Muestras_Totales']"
   ]
  },
  {
   "cell_type": "code",
   "execution_count": null,
   "metadata": {},
   "outputs": [],
   "source": [
    "data_identificacion_transposed"
   ]
  },
  {
   "cell_type": "code",
   "execution_count": null,
   "metadata": {},
   "outputs": [],
   "source": [
    "data_identificacion_transposed['Index_Column'] = data_identificacion_transposed.index\n",
    "\n",
    "# Reiniciar el índice para crear un nuevo índice  AUTOincremental\n",
    "data_identificacion_transposed.reset_index(drop=True, inplace=True)"
   ]
  },
  {
   "cell_type": "code",
   "execution_count": null,
   "metadata": {},
   "outputs": [],
   "source": [
    "\n",
    "data_identificacion_transposed.columns = ['Fecha', 'Id_Certificado', 'Comentarios', 'Año_QAQC', 'Fecha_QAQC', 'Mes_QAQC', 'Muestras_Con_Datos', 'Muestras_Totales', 'Estacion']\n",
    "data_identificacion_transposed"
   ]
  },
  {
   "cell_type": "code",
   "execution_count": null,
   "metadata": {},
   "outputs": [],
   "source": [
    "data_identificacion_transposed = data_identificacion_transposed[['Estacion','Fecha', 'Id_Certificado', 'Comentarios', 'Año_QAQC', 'Fecha_QAQC', 'Mes_QAQC', 'Muestras_Con_Datos', 'Muestras_Totales']]"
   ]
  },
  {
   "cell_type": "code",
   "execution_count": null,
   "metadata": {},
   "outputs": [],
   "source": [
    "data_identificacion_transposed\n"
   ]
  },
  {
   "cell_type": "markdown",
   "metadata": {},
   "source": [
    "EXTRAEMOS LA TABLA DE PARAMETROS"
   ]
  },
  {
   "cell_type": "code",
   "execution_count": null,
   "metadata": {},
   "outputs": [],
   "source": [
    "import pandas as pd\n",
    "\n",
    "\n",
    "file_path = 'C:\\\\Users\\\\fdona\\\\OneDrive\\\\Escritorio\\\\Compilado_Mpl_FD\\\\SUBTERRRANEAS_OBRAS_LINEALES\\\\9.Sondaje AP Los Vilos_FDDD.xlsx'\n",
    "xls = pd.ExcelFile(file_path)\n",
    "\n",
    "\n",
    "data_df = pd.read_excel(xls, sheet_name='(2020)', usecols=\"B:Z\", skiprows=141, nrows=99)\n",
    "\n",
    "\n",
    "print(data_df.head())"
   ]
  },
  {
   "cell_type": "markdown",
   "metadata": {},
   "source": [
    "ELIMINAMOS COLUMNA DE CELDA C () VACIA O CONTIENE UNIDADES DE MEDIDA"
   ]
  },
  {
   "cell_type": "code",
   "execution_count": null,
   "metadata": {},
   "outputs": [],
   "source": [
    "data_df.drop(data_df.columns[1], axis=1, inplace=True)\n",
    "\n",
    "\n",
    "data_df.head()"
   ]
  },
  {
   "cell_type": "markdown",
   "metadata": {},
   "source": [
    "PIVOTEAMOS PARA OBTENER FORMATO TABULAR"
   ]
  },
  {
   "cell_type": "code",
   "execution_count": null,
   "metadata": {},
   "outputs": [],
   "source": [
    "\n",
    "data_pivoted = data_df.T\n",
    "\n",
    "# PARAMETROS COMO COLUMNAS\n",
    "new_header = data_pivoted.iloc[0]  \n",
    "data_pivoted = data_pivoted[1:]  \n",
    "data_pivoted.columns = new_header  \n",
    "\n",
    "\n",
    "data_pivoted.reset_index(drop=True, inplace=True)\n",
    "\n",
    "\n",
    "data_pivoted"
   ]
  },
  {
   "cell_type": "markdown",
   "metadata": {},
   "source": [
    "Juntar data identificacion y data parametros"
   ]
  },
  {
   "cell_type": "code",
   "execution_count": null,
   "metadata": {},
   "outputs": [],
   "source": [
    "df_merged = pd.concat([data_identificacion_transposed, data_pivoted], axis=1)\n",
    "df_merged"
   ]
  },
  {
   "cell_type": "code",
   "execution_count": null,
   "metadata": {},
   "outputs": [],
   "source": [
    "\n",
    "df_merged['Estacion'] = df_merged['Estacion'].str.replace(r'\\..*$', '', regex=True)\n",
    "\n",
    "\n",
    "df_merged\n"
   ]
  },
  {
   "cell_type": "markdown",
   "metadata": {},
   "source": [
    "OBTENER ULTIMA CELDA CON VALOR (HORIZONTALMENTE)"
   ]
  },
  {
   "cell_type": "code",
   "execution_count": null,
   "metadata": {},
   "outputs": [],
   "source": [
    "import openpyxl\n",
    "\n",
    "\n",
    "wb = openpyxl.load_workbook('C:\\\\Users\\\\fdona\\\\OneDrive\\\\Escritorio\\\\Compilado_Mpl_FD\\\\SUBTERRRANEAS_OBRAS_LINEALES\\\\9.Sondaje AP Los Vilos_FDDD.xlsx')\n",
    "hoja = wb['(2020)']\n",
    "rango = hoja['C133:AZ133']\n",
    "\n",
    "\n",
    "ultima_celda_con_datos = None\n",
    "for celda in rango[0]:  # rango[0] porque es una sola fila\n",
    "    if celda.value is not None:\n",
    "        ultima_celda_con_datos = celda\n",
    "\n",
    "if ultima_celda_con_datos:\n",
    "    # Extraer solo las letras de la coordenada (columna)\n",
    "    columna = ''.join(filter(str.isalpha, ultima_celda_con_datos.coordinate))\n",
    "    print(f'La última columna con datos es {columna}')\n",
    "else:\n",
    "    print('No hay datos en el rango C133:AZ133')"
   ]
  },
  {
   "cell_type": "markdown",
   "metadata": {},
   "source": [
    "OBTENER Y RECORRER HOJAS DE UN ARCHIVO"
   ]
  },
  {
   "cell_type": "code",
   "execution_count": 1,
   "metadata": {},
   "outputs": [
    {
     "name": "stdout",
     "output_type": "stream",
     "text": [
      "No hay datos en el rango C133:AZ133, para la hoja: 2009\n",
      "No hay datos en el rango C133:AZ133, para la hoja: 2010\n",
      "No hay datos en el rango C133:AZ133, para la hoja: 2011\n",
      "No hay datos en el rango C133:AZ133, para la hoja: 2012\n",
      "No hay datos en el rango C133:AZ133, para la hoja: 2013\n",
      "No hay datos en el rango C133:AZ133, para la hoja: 2014\n",
      "No hay datos en el rango C133:AZ133, para la hoja: 2015\n",
      "No hay datos en el rango C133:AZ133, para la hoja: 2016\n",
      "No hay datos en el rango C133:AZ133, para la hoja: 2017\n",
      "No hay datos en el rango C133:AZ133, para la hoja: 2018\n",
      "No hay datos en el rango C133:AZ133, para la hoja: (2019)\n",
      "La última columna con datos es Z, en la hoja: (2020)\n",
      "La última columna con datos es V, en la hoja: (2021)\n",
      "La última columna con datos es P, en la hoja: (2022)\n",
      "La última columna con datos es O, en la hoja: (2023)\n"
     ]
    },
    {
     "data": {
      "text/html": [
       "<div>\n",
       "<style scoped>\n",
       "    .dataframe tbody tr th:only-of-type {\n",
       "        vertical-align: middle;\n",
       "    }\n",
       "\n",
       "    .dataframe tbody tr th {\n",
       "        vertical-align: top;\n",
       "    }\n",
       "\n",
       "    .dataframe thead th {\n",
       "        text-align: right;\n",
       "    }\n",
       "</style>\n",
       "<table border=\"1\" class=\"dataframe\">\n",
       "  <thead>\n",
       "    <tr style=\"text-align: right;\">\n",
       "      <th></th>\n",
       "      <th>Estacion</th>\n",
       "      <th>Fecha</th>\n",
       "      <th>Id_Certificado</th>\n",
       "      <th>Comentarios</th>\n",
       "      <th>Año_QAQC</th>\n",
       "      <th>Fecha_QAQC</th>\n",
       "      <th>Mes_QAQC</th>\n",
       "      <th>Muestras_Con_Datos</th>\n",
       "      <th>Muestras_Totales</th>\n",
       "    </tr>\n",
       "  </thead>\n",
       "  <tbody>\n",
       "    <tr>\n",
       "      <th>0</th>\n",
       "      <td>Sondaje AP Los Vilos</td>\n",
       "      <td>12-01-2020</td>\n",
       "      <td>ES20-01481</td>\n",
       "      <td>NaN</td>\n",
       "      <td>2020</td>\n",
       "      <td>12-01-2020</td>\n",
       "      <td>Enero</td>\n",
       "      <td>12</td>\n",
       "      <td>12</td>\n",
       "    </tr>\n",
       "    <tr>\n",
       "      <th>1</th>\n",
       "      <td>Sondaje AP Los Vilos.1</td>\n",
       "      <td>00:00:00</td>\n",
       "      <td>ES20-01480</td>\n",
       "      <td>NaN</td>\n",
       "      <td>2020</td>\n",
       "      <td>12-01-2020</td>\n",
       "      <td>Enero</td>\n",
       "      <td>12</td>\n",
       "      <td>12</td>\n",
       "    </tr>\n",
       "    <tr>\n",
       "      <th>2</th>\n",
       "      <td>Sondaje AP Los Vilos.2</td>\n",
       "      <td>2020-02-04 00:00:00</td>\n",
       "      <td>ES20-04832</td>\n",
       "      <td>NaN</td>\n",
       "      <td>2020</td>\n",
       "      <td>04-02-2020</td>\n",
       "      <td>Febrero</td>\n",
       "      <td>12</td>\n",
       "      <td>12</td>\n",
       "    </tr>\n",
       "    <tr>\n",
       "      <th>3</th>\n",
       "      <td>Sondaje AP Los Vilos.3</td>\n",
       "      <td>00:00:00</td>\n",
       "      <td>ES20-04829</td>\n",
       "      <td>NaN</td>\n",
       "      <td>2020</td>\n",
       "      <td>04-02-2020</td>\n",
       "      <td>Febrero</td>\n",
       "      <td>12</td>\n",
       "      <td>12</td>\n",
       "    </tr>\n",
       "    <tr>\n",
       "      <th>4</th>\n",
       "      <td>Sondaje AP Los Vilos.4</td>\n",
       "      <td>2020-03-17 00:00:00</td>\n",
       "      <td>ES20-10735</td>\n",
       "      <td>NaN</td>\n",
       "      <td>2020</td>\n",
       "      <td>17-03-2020</td>\n",
       "      <td>Marzo</td>\n",
       "      <td>12</td>\n",
       "      <td>12</td>\n",
       "    </tr>\n",
       "    <tr>\n",
       "      <th>...</th>\n",
       "      <td>...</td>\n",
       "      <td>...</td>\n",
       "      <td>...</td>\n",
       "      <td>...</td>\n",
       "      <td>...</td>\n",
       "      <td>...</td>\n",
       "      <td>...</td>\n",
       "      <td>...</td>\n",
       "      <td>...</td>\n",
       "    </tr>\n",
       "    <tr>\n",
       "      <th>62</th>\n",
       "      <td>Sondaje AP Los Vilos.7</td>\n",
       "      <td>2023-08-08 00:00:00</td>\n",
       "      <td>2023-289658</td>\n",
       "      <td>NaN</td>\n",
       "      <td>2023</td>\n",
       "      <td>08-08-2023</td>\n",
       "      <td>Agosto</td>\n",
       "      <td>0</td>\n",
       "      <td>12</td>\n",
       "    </tr>\n",
       "    <tr>\n",
       "      <th>63</th>\n",
       "      <td>Sondaje AP Los Vilos.8</td>\n",
       "      <td>2023-09-05 00:00:00</td>\n",
       "      <td>2023-296127</td>\n",
       "      <td>NaN</td>\n",
       "      <td>2023</td>\n",
       "      <td>05-09-2023</td>\n",
       "      <td>Septiembre</td>\n",
       "      <td>0</td>\n",
       "      <td>12</td>\n",
       "    </tr>\n",
       "    <tr>\n",
       "      <th>64</th>\n",
       "      <td>Sondaje AP Los Vilos.9</td>\n",
       "      <td>2023-10-03 00:00:00</td>\n",
       "      <td>2023-311612</td>\n",
       "      <td>NaN</td>\n",
       "      <td>2023</td>\n",
       "      <td>03-10-2023</td>\n",
       "      <td>Octubre</td>\n",
       "      <td>0</td>\n",
       "      <td>12</td>\n",
       "    </tr>\n",
       "    <tr>\n",
       "      <th>65</th>\n",
       "      <td>Sondaje AP Los Vilos.10</td>\n",
       "      <td>2023-11-14 00:00:00</td>\n",
       "      <td>2023-331065</td>\n",
       "      <td>NaN</td>\n",
       "      <td>2023</td>\n",
       "      <td>14-11-2023</td>\n",
       "      <td>Noviembre</td>\n",
       "      <td>0</td>\n",
       "      <td>12</td>\n",
       "    </tr>\n",
       "    <tr>\n",
       "      <th>66</th>\n",
       "      <td>Sondaje AP Los Vilos.11</td>\n",
       "      <td>2023-12-12 00:00:00</td>\n",
       "      <td>2023-337380</td>\n",
       "      <td>NaN</td>\n",
       "      <td>2023</td>\n",
       "      <td>12-12-2023</td>\n",
       "      <td>Diciembre</td>\n",
       "      <td>0</td>\n",
       "      <td>12</td>\n",
       "    </tr>\n",
       "  </tbody>\n",
       "</table>\n",
       "<p>67 rows × 9 columns</p>\n",
       "</div>"
      ],
      "text/plain": [
       "                   Estacion                Fecha Id_Certificado Comentarios  \\\n",
       "0      Sondaje AP Los Vilos           12-01-2020     ES20-01481         NaN   \n",
       "1    Sondaje AP Los Vilos.1             00:00:00     ES20-01480         NaN   \n",
       "2    Sondaje AP Los Vilos.2  2020-02-04 00:00:00     ES20-04832         NaN   \n",
       "3    Sondaje AP Los Vilos.3             00:00:00     ES20-04829         NaN   \n",
       "4    Sondaje AP Los Vilos.4  2020-03-17 00:00:00     ES20-10735         NaN   \n",
       "..                      ...                  ...            ...         ...   \n",
       "62   Sondaje AP Los Vilos.7  2023-08-08 00:00:00    2023-289658         NaN   \n",
       "63   Sondaje AP Los Vilos.8  2023-09-05 00:00:00    2023-296127         NaN   \n",
       "64   Sondaje AP Los Vilos.9  2023-10-03 00:00:00    2023-311612         NaN   \n",
       "65  Sondaje AP Los Vilos.10  2023-11-14 00:00:00    2023-331065         NaN   \n",
       "66  Sondaje AP Los Vilos.11  2023-12-12 00:00:00    2023-337380         NaN   \n",
       "\n",
       "   Año_QAQC  Fecha_QAQC    Mes_QAQC Muestras_Con_Datos Muestras_Totales  \n",
       "0      2020  12-01-2020       Enero                 12               12  \n",
       "1      2020  12-01-2020       Enero                 12               12  \n",
       "2      2020  04-02-2020     Febrero                 12               12  \n",
       "3      2020  04-02-2020     Febrero                 12               12  \n",
       "4      2020  17-03-2020       Marzo                 12               12  \n",
       "..      ...         ...         ...                ...              ...  \n",
       "62     2023  08-08-2023      Agosto                  0               12  \n",
       "63     2023  05-09-2023  Septiembre                  0               12  \n",
       "64     2023  03-10-2023     Octubre                  0               12  \n",
       "65     2023  14-11-2023   Noviembre                  0               12  \n",
       "66     2023  12-12-2023   Diciembre                  0               12  \n",
       "\n",
       "[67 rows x 9 columns]"
      ]
     },
     "execution_count": 1,
     "metadata": {},
     "output_type": "execute_result"
    }
   ],
   "source": [
    "import pandas as pd\n",
    "import openpyxl\n",
    "\n",
    "# Ruta al archivp\n",
    "path_to_file = \"C:\\\\Users\\\\fdona\\\\OneDrive\\\\Escritorio\\\\Compilado_Mpl_FD\\\\SUBTERRRANEAS_OBRAS_LINEALES\\\\9.Sondaje AP Los Vilos_FDDD.xlsx\"\n",
    "xls = pd.ExcelFile(path_to_file)\n",
    "wb = openpyxl.load_workbook(path_to_file)\n",
    "data_total = pd.DataFrame()\n",
    "for hoja_archivo in xls.sheet_names:\n",
    "    hoja = wb[hoja_archivo]\n",
    "    rango = hoja['C133:AZ133']\n",
    "\n",
    "    ultima_celda_con_datos = None\n",
    "    for celda in rango[0]:  # rango[0] porque es una sola fila\n",
    "        if celda.value is not None:\n",
    "            ultima_celda_con_datos = celda\n",
    "\n",
    "    if ultima_celda_con_datos:\n",
    "    # Extraer solo las letras de la coordenada (columna)\n",
    "        columna = ''.join(filter(str.isalpha, ultima_celda_con_datos.coordinate))\n",
    "        print(f'La última columna con datos es {columna}, en la hoja: {hoja_archivo}')\n",
    "    \n",
    "    \n",
    "        data_identificacion = pd.read_excel(xls, sheet_name= hoja_archivo, skiprows=132, nrows=8, usecols=f\"C:{columna}\")\n",
    "\n",
    "\n",
    "        data_identificacion_transposed = data_identificacion.transpose()\n",
    "\n",
    "\n",
    "        data_identificacion_transposed.columns = data_identificacion_transposed.iloc[0]\n",
    "        data_identificacion_transposed = data_identificacion_transposed.drop(data_identificacion_transposed.index[0])\n",
    "        # nombramiento de columnmas\n",
    "        data_identificacion_transposed.columns = ['Fecha', 'Id_Certificado', 'Comentarios', 'Año_QAQC', 'Fecha_QAQC', 'Mes_QAQC', 'Muestras_Con_Datos', 'Muestras_Totales']\n",
    "        data_identificacion_transposed['Index_Column'] = data_identificacion_transposed.index\n",
    "\n",
    "        # Reiniciar el índice para crear un nuevo índice  AUTOincremental\n",
    "        data_identificacion_transposed.reset_index(drop=True, inplace=True)\n",
    "        data_identificacion_transposed.columns = ['Fecha', 'Id_Certificado', 'Comentarios', 'Año_QAQC', 'Fecha_QAQC', 'Mes_QAQC', 'Muestras_Con_Datos', 'Muestras_Totales', 'Estacion']\n",
    "        # ORDEN DE LA COLUMNAS \n",
    "        data_identificacion_transposed = data_identificacion_transposed[['Estacion','Fecha', 'Id_Certificado', 'Comentarios', 'Año_QAQC', 'Fecha_QAQC', 'Mes_QAQC', 'Muestras_Con_Datos', 'Muestras_Totales']]\n",
    "        # data_identificacion total\n",
    "        data_total = pd.concat([data_total, data_identificacion_transposed], ignore_index=True)\n",
    "    else:\n",
    "        print(f'No hay datos en el rango C133:AZ133, para la hoja: {hoja_archivo}')\n",
    "\n",
    "\n",
    "data_total"
   ]
  }
 ],
 "metadata": {
  "kernelspec": {
   "display_name": "env",
   "language": "python",
   "name": "python3"
  },
  "language_info": {
   "codemirror_mode": {
    "name": "ipython",
    "version": 3
   },
   "file_extension": ".py",
   "mimetype": "text/x-python",
   "name": "python",
   "nbconvert_exporter": "python",
   "pygments_lexer": "ipython3",
   "version": "3.12.0"
  }
 },
 "nbformat": 4,
 "nbformat_minor": 2
}
