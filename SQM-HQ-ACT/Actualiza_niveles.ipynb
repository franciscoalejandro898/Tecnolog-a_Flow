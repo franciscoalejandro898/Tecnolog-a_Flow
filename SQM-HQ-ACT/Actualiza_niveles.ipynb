{
 "cells": [
  {
   "cell_type": "markdown",
   "metadata": {},
   "source": [
    "CONECCION A LA BASE DE DATOS"
   ]
  },
  {
   "cell_type": "code",
   "execution_count": 2,
   "metadata": {},
   "outputs": [],
   "source": [
    "import psycopg2\n",
    "from sqlalchemy import create_engine\n",
    "import pandas as pd\n",
    "\n",
    "# Credenciales db\n",
    "host = 'localhost'\n",
    "database = 'DB_SQM-SALAR'\n",
    "username = 'postgres'  \n",
    "password = '1234' \n",
    "\n",
    "# Crea la coneccion\n",
    "conn = psycopg2.connect(\n",
    "    host=host,\n",
    "    database=database,\n",
    "    user=username,\n",
    "    password=password\n",
    ")\n",
    "\n",
    "engine = create_engine('postgresql://'+username+':'+password+'@'+host+'/'+database)\n",
    "table_name1 = 'SQM-Hidroquimica'\n",
    "table_name2 = 'SQM-Infraestructuras'\n",
    "\n",
    "\n",
    "df_concentraciones = pd.read_sql_table(table_name1, con=engine)#Trae la tabla de la bda un dataframe\n",
    "df_infraestructuras = pd.read_sql_table(table_name2, con=engine)#\n"
   ]
  },
  {
   "cell_type": "markdown",
   "metadata": {},
   "source": []
  }
 ],
 "metadata": {
  "kernelspec": {
   "display_name": "env",
   "language": "python",
   "name": "python3"
  },
  "language_info": {
   "codemirror_mode": {
    "name": "ipython",
    "version": 3
   },
   "file_extension": ".py",
   "mimetype": "text/x-python",
   "name": "python",
   "nbconvert_exporter": "python",
   "pygments_lexer": "ipython3",
   "version": "3.12.0"
  }
 },
 "nbformat": 4,
 "nbformat_minor": 2
}
