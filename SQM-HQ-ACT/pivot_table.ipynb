{
 "cells": [
  {
   "cell_type": "code",
   "execution_count": 25,
   "metadata": {},
   "outputs": [],
   "source": [
    "import psycopg2\n",
    "from sqlalchemy import create_engine\n",
    "import pandas as pd\n",
    "\n",
    "# Credenciales db\n",
    "host = 'localhost'\n",
    "database = 'DB_SQM-SALAR'\n",
    "username = 'postgres'  \n",
    "password = '1234' \n",
    "\n",
    "# Crea la coneccion\n",
    "conn = psycopg2.connect(\n",
    "    host=host,\n",
    "    database=database,\n",
    "    user=username,\n",
    "    password=password\n",
    ")\n",
    "\n",
    "engine = create_engine('postgresql://'+username+':'+password+'@'+host+'/'+database)\n",
    "table_name1 = 'SQM-Concentraciones_NEW'\n",
    "table_name2 = 'SQM-Infraestructuras'\n",
    "\n",
    "\n",
    "df_concentraciones = pd.read_sql_table(table_name1, con=engine)#Trae la tabla de la bda un dataframe\n",
    "df_infraestructuras = pd.read_sql_table(table_name2, con=engine)#"
   ]
  },
  {
   "cell_type": "code",
   "execution_count": 38,
   "metadata": {},
   "outputs": [
    {
     "data": {
      "text/plain": [
       "<bound method DataFrame.info of        Nombre Infraestructura Alias Infraestructura    Campanna  \\\n",
       "0                    P-17 SDC                  None   SC_1_2018   \n",
       "1                    P-15 SDC                  None   SC_1_2018   \n",
       "2                   P-23B SDC                  None   SC_1_2018   \n",
       "3                     P-6 SDC                  None   SC_1_2018   \n",
       "4                    P-17 SDC                  None   SC_2_2018   \n",
       "...                       ...                   ...         ...   \n",
       "446400                P-6 SDC                  None  SC_04_2018   \n",
       "446401               P-17 SDC                  None  SC_05_2018   \n",
       "446402               P-15 SDC                  None  SC_05_2018   \n",
       "446403                P-6 SDC                  None  SC_05_2018   \n",
       "446404               Mullay-1                  None     10_2011   \n",
       "\n",
       "                        Nombre Muestra  Coordenada Utm Este  \\\n",
       "0        P-17 SDC|43129|Laboratorio SC         3.710157e+11   \n",
       "1        P-15 SDC|43129|Laboratorio SC         3.697917e+11   \n",
       "2       P-23B SDC|43129|Laboratorio SC         3.713342e+11   \n",
       "3         P-6 SDC|43129|Laboratorio SC         3.696800e+11   \n",
       "4        P-17 SDC|43157|Laboratorio SC         3.710157e+11   \n",
       "...                                ...                  ...   \n",
       "446400    P-6 SDC|43208|Laboratorio SC         3.696800e+11   \n",
       "446401   P-17 SDC|43237|Laboratorio SC         3.710157e+11   \n",
       "446402   P-15 SDC|43236|Laboratorio SC         3.697917e+11   \n",
       "446403    P-6 SDC|43236|Laboratorio SC         3.696800e+11   \n",
       "446404             MULLAY-1|40839|PSAH         5.999190e+07   \n",
       "\n",
       "        Coordenada Utm Norte        Fecha Muestra  Id Analisis Quimico  \\\n",
       "0               7.382242e+12  2018-01-29 00:00:00               248855   \n",
       "1               7.384298e+12  2018-01-29 00:00:00               248248   \n",
       "2               7.385091e+12  2018-01-29 00:00:00               246495   \n",
       "3               7.386406e+12  2018-01-29 00:00:00               246489   \n",
       "4               7.382242e+12  2018-02-26 00:00:00               248861   \n",
       "...                      ...                  ...                  ...   \n",
       "446400          7.386406e+12  2018-04-18 00:00:00               246528   \n",
       "446401          7.382242e+12  2018-05-17 00:00:00               248867   \n",
       "446402          7.384298e+12  2018-05-16 00:00:00               248546   \n",
       "446403          7.386406e+12  2018-05-16 00:00:00               246529   \n",
       "446404          7.422645e+08  2011-10-23 00:00:00               258353   \n",
       "\n",
       "        Id Calidad Tipoanalisis  ... Nombre Analito Nombre Unidad  \\\n",
       "0                1  Laboratorio  ...          Cromo          mg/L   \n",
       "1                1  Laboratorio  ...          Cromo          mg/L   \n",
       "2                1  Laboratorio  ...          Cromo          mg/L   \n",
       "3                1  Laboratorio  ...          Cromo          mg/L   \n",
       "4                1  Laboratorio  ...          Cromo          mg/L   \n",
       "...            ...          ...  ...            ...           ...   \n",
       "446400           1  Laboratorio  ...          Cromo          mg/L   \n",
       "446401           1  Laboratorio  ...          Cromo          mg/L   \n",
       "446402           1  Laboratorio  ...          Cromo          mg/L   \n",
       "446403           1  Laboratorio  ...          Cromo          mg/L   \n",
       "446404           1  Laboratorio  ...           Zinc          mg/L   \n",
       "\n",
       "       Nombre Descriptor Valor Analitico Valor Analitico Num  \\\n",
       "0                   None          0,1094              0.1094   \n",
       "1                   None           0,107               0.107   \n",
       "2                   None          0,1042              0.1042   \n",
       "3                   None          0,1041              0.1041   \n",
       "4                   None          0,1095              0.1095   \n",
       "...                  ...             ...                 ...   \n",
       "446400              None          0,1045              0.1045   \n",
       "446401              None          0,1097              0.1097   \n",
       "446402              None          0,1073              0.1073   \n",
       "446403              None          0,1045              0.1045   \n",
       "446404                 <             5.0                25.0   \n",
       "\n",
       "                                              Procedencia Tipo_analisis_BD  \\\n",
       "0       GV_AnalisisQuimicosV2_PSAH extracción_Extract.csv          Quimica   \n",
       "1       GV_AnalisisQuimicosV2_PSAH extracción_Extract.csv          Quimica   \n",
       "2       GV_AnalisisQuimicosV2_PSAH extracción_Extract.csv          Quimica   \n",
       "3       GV_AnalisisQuimicosV2_PSAH extracción_Extract.csv          Quimica   \n",
       "4       GV_AnalisisQuimicosV2_PSAH extracción_Extract.csv          Quimica   \n",
       "...                                                   ...              ...   \n",
       "446400  GV_AnalisisQuimicosV2_PSAH extracción_Extract.csv          Quimica   \n",
       "446401  GV_AnalisisQuimicosV2_PSAH extracción_Extract.csv          Quimica   \n",
       "446402  GV_AnalisisQuimicosV2_PSAH extracción_Extract.csv          Quimica   \n",
       "446403  GV_AnalisisQuimicosV2_PSAH extracción_Extract.csv          Quimica   \n",
       "446404                   GV_AnalisisQuimicosInfEfec_L1-17          Quimica   \n",
       "\n",
       "       Comentario                     Fuente_D Nombre Analito_Unidad  \n",
       "0            None  Muestreo Complementario DIA            Cromo_mg/L  \n",
       "1            None  Muestreo Complementario DIA            Cromo_mg/L  \n",
       "2            None  Muestreo Complementario DIA            Cromo_mg/L  \n",
       "3            None  Muestreo Complementario DIA            Cromo_mg/L  \n",
       "4            None  Muestreo Complementario DIA            Cromo_mg/L  \n",
       "...           ...                          ...                   ...  \n",
       "446400       None  Muestreo Complementario DIA            Cromo_mg/L  \n",
       "446401       None  Muestreo Complementario DIA            Cromo_mg/L  \n",
       "446402       None  Muestreo Complementario DIA            Cromo_mg/L  \n",
       "446403       None  Muestreo Complementario DIA            Cromo_mg/L  \n",
       "446404       None                         PSAH             Zinc_mg/L  \n",
       "\n",
       "[446405 rows x 32 columns]>"
      ]
     },
     "execution_count": 38,
     "metadata": {},
     "output_type": "execute_result"
    }
   ],
   "source": [
    "df_concentraciones.info"
   ]
  },
  {
   "cell_type": "markdown",
   "metadata": {},
   "source": [
    "UNIR LOS DATAFRAME"
   ]
  },
  {
   "cell_type": "code",
   "execution_count": 63,
   "metadata": {},
   "outputs": [],
   "source": [
    "import pandas as pd\n",
    "\n",
    "# Asumiendo que df_concentraciones y df_infraestructuras ya están definidos\n",
    "df_combined = pd.merge(df_concentraciones, df_infraestructuras, \n",
    "                       left_on='Nombre Infraestructura', \n",
    "                       right_on='HOLEID', \n",
    "                       how='inner')  # Cambiar a 'left' para asegurar un left join\n",
    "\n"
   ]
  },
  {
   "cell_type": "code",
   "execution_count": 64,
   "metadata": {},
   "outputs": [
    {
     "data": {
      "text/html": [
       "<div>\n",
       "<style scoped>\n",
       "    .dataframe tbody tr th:only-of-type {\n",
       "        vertical-align: middle;\n",
       "    }\n",
       "\n",
       "    .dataframe tbody tr th {\n",
       "        vertical-align: top;\n",
       "    }\n",
       "\n",
       "    .dataframe thead th {\n",
       "        text-align: right;\n",
       "    }\n",
       "</style>\n",
       "<table border=\"1\" class=\"dataframe\">\n",
       "  <thead>\n",
       "    <tr style=\"text-align: right;\">\n",
       "      <th></th>\n",
       "      <th>Nombre Infraestructura</th>\n",
       "      <th>Alias Infraestructura</th>\n",
       "      <th>Campanna</th>\n",
       "      <th>Nombre Muestra</th>\n",
       "      <th>Coordenada Utm Este</th>\n",
       "      <th>Coordenada Utm Norte</th>\n",
       "      <th>Fecha Muestra</th>\n",
       "      <th>Id Analisis Quimico</th>\n",
       "      <th>Id Calidad</th>\n",
       "      <th>Tipoanalisis</th>\n",
       "      <th>...</th>\n",
       "      <th>TIENE_DATO_ESTRATI</th>\n",
       "      <th>SISTEMA</th>\n",
       "      <th>Alias</th>\n",
       "      <th>geometry</th>\n",
       "      <th>Latitud</th>\n",
       "      <th>Longitud</th>\n",
       "      <th>Activacion</th>\n",
       "      <th>Indicador</th>\n",
       "      <th>Sistema2</th>\n",
       "      <th>Object_ID</th>\n",
       "    </tr>\n",
       "  </thead>\n",
       "  <tbody>\n",
       "    <tr>\n",
       "      <th>0</th>\n",
       "      <td>Mullay-1</td>\n",
       "      <td>None</td>\n",
       "      <td>4_2018</td>\n",
       "      <td>MULLAY-1|26-04-2018|PSAH|SGS</td>\n",
       "      <td>5.999190e+07</td>\n",
       "      <td>7.422645e+08</td>\n",
       "      <td>2018-04-26 00:00:00</td>\n",
       "      <td>258630</td>\n",
       "      <td>1</td>\n",
       "      <td>Laboratorio</td>\n",
       "      <td>...</td>\n",
       "      <td>SI</td>\n",
       "      <td>Soncor</td>\n",
       "      <td>None</td>\n",
       "      <td>POINT (599918.95 7422645.06)</td>\n",
       "      <td>-23.302598</td>\n",
       "      <td>-68.022846</td>\n",
       "      <td>None</td>\n",
       "      <td>None</td>\n",
       "      <td>SQM</td>\n",
       "      <td>348</td>\n",
       "    </tr>\n",
       "    <tr>\n",
       "      <th>1</th>\n",
       "      <td>CA-2015</td>\n",
       "      <td>None</td>\n",
       "      <td>4_2017</td>\n",
       "      <td>CA-2015 Abril 2017</td>\n",
       "      <td>5.961357e+11</td>\n",
       "      <td>7.396452e+12</td>\n",
       "      <td>2017-04-27 00:00:00</td>\n",
       "      <td>267540</td>\n",
       "      <td>1</td>\n",
       "      <td>Laboratorio</td>\n",
       "      <td>...</td>\n",
       "      <td>NO</td>\n",
       "      <td>HIDROMORFA</td>\n",
       "      <td>None</td>\n",
       "      <td>POINT (596135.7 7396451.89)</td>\n",
       "      <td>-23.539394</td>\n",
       "      <td>-68.058167</td>\n",
       "      <td>None</td>\n",
       "      <td>None</td>\n",
       "      <td>SQM</td>\n",
       "      <td>82</td>\n",
       "    </tr>\n",
       "    <tr>\n",
       "      <th>2</th>\n",
       "      <td>L7-14</td>\n",
       "      <td>None</td>\n",
       "      <td>SQM / 2015</td>\n",
       "      <td>241|L7-14</td>\n",
       "      <td>5.922865e+11</td>\n",
       "      <td>7.422403e+12</td>\n",
       "      <td>2015-10-01 00:00:00</td>\n",
       "      <td>172745</td>\n",
       "      <td>1</td>\n",
       "      <td>Laboratorio</td>\n",
       "      <td>...</td>\n",
       "      <td>NO</td>\n",
       "      <td>None</td>\n",
       "      <td>None</td>\n",
       "      <td>POINT (592286.51 7422403.41)</td>\n",
       "      <td>-23.305227</td>\n",
       "      <td>-68.097465</td>\n",
       "      <td>None</td>\n",
       "      <td>None</td>\n",
       "      <td>None</td>\n",
       "      <td>277</td>\n",
       "    </tr>\n",
       "    <tr>\n",
       "      <th>3</th>\n",
       "      <td>1028</td>\n",
       "      <td>None</td>\n",
       "      <td>SQM / 2003</td>\n",
       "      <td>279|1028</td>\n",
       "      <td>5.844330e+11</td>\n",
       "      <td>7.383998e+12</td>\n",
       "      <td>2003-03-22 00:00:00</td>\n",
       "      <td>158642</td>\n",
       "      <td>1</td>\n",
       "      <td>Laboratorio</td>\n",
       "      <td>...</td>\n",
       "      <td>None</td>\n",
       "      <td>Peine</td>\n",
       "      <td>None</td>\n",
       "      <td>POINT (-68.17210151073537 -23.65252654027481)</td>\n",
       "      <td>-23.652527</td>\n",
       "      <td>-68.172102</td>\n",
       "      <td>None</td>\n",
       "      <td>None</td>\n",
       "      <td>None</td>\n",
       "      <td>5</td>\n",
       "    </tr>\n",
       "    <tr>\n",
       "      <th>4</th>\n",
       "      <td>Mullay-1</td>\n",
       "      <td>None</td>\n",
       "      <td>4_2018</td>\n",
       "      <td>MULLAY-1|26-04-2018|PSAH|SGS</td>\n",
       "      <td>5.999190e+07</td>\n",
       "      <td>7.422645e+08</td>\n",
       "      <td>2018-04-26 00:00:00</td>\n",
       "      <td>258631</td>\n",
       "      <td>1</td>\n",
       "      <td>Laboratorio</td>\n",
       "      <td>...</td>\n",
       "      <td>SI</td>\n",
       "      <td>Soncor</td>\n",
       "      <td>None</td>\n",
       "      <td>POINT (599918.95 7422645.06)</td>\n",
       "      <td>-23.302598</td>\n",
       "      <td>-68.022846</td>\n",
       "      <td>None</td>\n",
       "      <td>None</td>\n",
       "      <td>SQM</td>\n",
       "      <td>348</td>\n",
       "    </tr>\n",
       "    <tr>\n",
       "      <th>...</th>\n",
       "      <td>...</td>\n",
       "      <td>...</td>\n",
       "      <td>...</td>\n",
       "      <td>...</td>\n",
       "      <td>...</td>\n",
       "      <td>...</td>\n",
       "      <td>...</td>\n",
       "      <td>...</td>\n",
       "      <td>...</td>\n",
       "      <td>...</td>\n",
       "      <td>...</td>\n",
       "      <td>...</td>\n",
       "      <td>...</td>\n",
       "      <td>...</td>\n",
       "      <td>...</td>\n",
       "      <td>...</td>\n",
       "      <td>...</td>\n",
       "      <td>...</td>\n",
       "      <td>...</td>\n",
       "      <td>...</td>\n",
       "      <td>...</td>\n",
       "    </tr>\n",
       "    <tr>\n",
       "      <th>284682</th>\n",
       "      <td>Mullay-1</td>\n",
       "      <td>None</td>\n",
       "      <td>4_2015</td>\n",
       "      <td>MULLAY-1|42121|PSAH</td>\n",
       "      <td>5.999190e+07</td>\n",
       "      <td>7.422645e+08</td>\n",
       "      <td>2015-04-27 00:00:00</td>\n",
       "      <td>261484</td>\n",
       "      <td>1</td>\n",
       "      <td>Laboratorio</td>\n",
       "      <td>...</td>\n",
       "      <td>SI</td>\n",
       "      <td>Soncor</td>\n",
       "      <td>None</td>\n",
       "      <td>POINT (599918.95 7422645.06)</td>\n",
       "      <td>-23.302598</td>\n",
       "      <td>-68.022846</td>\n",
       "      <td>None</td>\n",
       "      <td>None</td>\n",
       "      <td>SQM</td>\n",
       "      <td>348</td>\n",
       "    </tr>\n",
       "    <tr>\n",
       "      <th>284683</th>\n",
       "      <td>Mullay-1</td>\n",
       "      <td>None</td>\n",
       "      <td>4_2015</td>\n",
       "      <td>MULLAY-1|42121|PSAH</td>\n",
       "      <td>5.999190e+07</td>\n",
       "      <td>7.422645e+08</td>\n",
       "      <td>2015-04-27 00:00:00</td>\n",
       "      <td>261485</td>\n",
       "      <td>1</td>\n",
       "      <td>Laboratorio</td>\n",
       "      <td>...</td>\n",
       "      <td>SI</td>\n",
       "      <td>Soncor</td>\n",
       "      <td>None</td>\n",
       "      <td>POINT (599918.95 7422645.06)</td>\n",
       "      <td>-23.302598</td>\n",
       "      <td>-68.022846</td>\n",
       "      <td>None</td>\n",
       "      <td>None</td>\n",
       "      <td>SQM</td>\n",
       "      <td>348</td>\n",
       "    </tr>\n",
       "    <tr>\n",
       "      <th>284684</th>\n",
       "      <td>Mullay-1</td>\n",
       "      <td>None</td>\n",
       "      <td>10_2011</td>\n",
       "      <td>MULLAY-1|40839|PSAH</td>\n",
       "      <td>5.999190e+07</td>\n",
       "      <td>7.422645e+08</td>\n",
       "      <td>2011-10-23 00:00:00</td>\n",
       "      <td>258351</td>\n",
       "      <td>1</td>\n",
       "      <td>Laboratorio</td>\n",
       "      <td>...</td>\n",
       "      <td>SI</td>\n",
       "      <td>Soncor</td>\n",
       "      <td>None</td>\n",
       "      <td>POINT (599918.95 7422645.06)</td>\n",
       "      <td>-23.302598</td>\n",
       "      <td>-68.022846</td>\n",
       "      <td>None</td>\n",
       "      <td>None</td>\n",
       "      <td>SQM</td>\n",
       "      <td>348</td>\n",
       "    </tr>\n",
       "    <tr>\n",
       "      <th>284685</th>\n",
       "      <td>Mullay-1</td>\n",
       "      <td>None</td>\n",
       "      <td>10_2011</td>\n",
       "      <td>MULLAY-1|40839|PSAH</td>\n",
       "      <td>5.999190e+07</td>\n",
       "      <td>7.422645e+08</td>\n",
       "      <td>2011-10-23 00:00:00</td>\n",
       "      <td>258352</td>\n",
       "      <td>1</td>\n",
       "      <td>Laboratorio</td>\n",
       "      <td>...</td>\n",
       "      <td>SI</td>\n",
       "      <td>Soncor</td>\n",
       "      <td>None</td>\n",
       "      <td>POINT (599918.95 7422645.06)</td>\n",
       "      <td>-23.302598</td>\n",
       "      <td>-68.022846</td>\n",
       "      <td>None</td>\n",
       "      <td>None</td>\n",
       "      <td>SQM</td>\n",
       "      <td>348</td>\n",
       "    </tr>\n",
       "    <tr>\n",
       "      <th>284686</th>\n",
       "      <td>Mullay-1</td>\n",
       "      <td>None</td>\n",
       "      <td>10_2011</td>\n",
       "      <td>MULLAY-1|40839|PSAH</td>\n",
       "      <td>5.999190e+07</td>\n",
       "      <td>7.422645e+08</td>\n",
       "      <td>2011-10-23 00:00:00</td>\n",
       "      <td>258353</td>\n",
       "      <td>1</td>\n",
       "      <td>Laboratorio</td>\n",
       "      <td>...</td>\n",
       "      <td>SI</td>\n",
       "      <td>Soncor</td>\n",
       "      <td>None</td>\n",
       "      <td>POINT (599918.95 7422645.06)</td>\n",
       "      <td>-23.302598</td>\n",
       "      <td>-68.022846</td>\n",
       "      <td>None</td>\n",
       "      <td>None</td>\n",
       "      <td>SQM</td>\n",
       "      <td>348</td>\n",
       "    </tr>\n",
       "  </tbody>\n",
       "</table>\n",
       "<p>284687 rows × 58 columns</p>\n",
       "</div>"
      ],
      "text/plain": [
       "       Nombre Infraestructura Alias Infraestructura    Campanna  \\\n",
       "0                    Mullay-1                  None      4_2018   \n",
       "1                     CA-2015                  None      4_2017   \n",
       "2                       L7-14                  None  SQM / 2015   \n",
       "3                        1028                  None  SQM / 2003   \n",
       "4                    Mullay-1                  None      4_2018   \n",
       "...                       ...                   ...         ...   \n",
       "284682               Mullay-1                  None      4_2015   \n",
       "284683               Mullay-1                  None      4_2015   \n",
       "284684               Mullay-1                  None     10_2011   \n",
       "284685               Mullay-1                  None     10_2011   \n",
       "284686               Mullay-1                  None     10_2011   \n",
       "\n",
       "                      Nombre Muestra  Coordenada Utm Este  \\\n",
       "0       MULLAY-1|26-04-2018|PSAH|SGS         5.999190e+07   \n",
       "1                 CA-2015 Abril 2017         5.961357e+11   \n",
       "2                          241|L7-14         5.922865e+11   \n",
       "3                           279|1028         5.844330e+11   \n",
       "4       MULLAY-1|26-04-2018|PSAH|SGS         5.999190e+07   \n",
       "...                              ...                  ...   \n",
       "284682           MULLAY-1|42121|PSAH         5.999190e+07   \n",
       "284683           MULLAY-1|42121|PSAH         5.999190e+07   \n",
       "284684           MULLAY-1|40839|PSAH         5.999190e+07   \n",
       "284685           MULLAY-1|40839|PSAH         5.999190e+07   \n",
       "284686           MULLAY-1|40839|PSAH         5.999190e+07   \n",
       "\n",
       "        Coordenada Utm Norte        Fecha Muestra  Id Analisis Quimico  \\\n",
       "0               7.422645e+08  2018-04-26 00:00:00               258630   \n",
       "1               7.396452e+12  2017-04-27 00:00:00               267540   \n",
       "2               7.422403e+12  2015-10-01 00:00:00               172745   \n",
       "3               7.383998e+12  2003-03-22 00:00:00               158642   \n",
       "4               7.422645e+08  2018-04-26 00:00:00               258631   \n",
       "...                      ...                  ...                  ...   \n",
       "284682          7.422645e+08  2015-04-27 00:00:00               261484   \n",
       "284683          7.422645e+08  2015-04-27 00:00:00               261485   \n",
       "284684          7.422645e+08  2011-10-23 00:00:00               258351   \n",
       "284685          7.422645e+08  2011-10-23 00:00:00               258352   \n",
       "284686          7.422645e+08  2011-10-23 00:00:00               258353   \n",
       "\n",
       "        Id Calidad Tipoanalisis  ... TIENE_DATO_ESTRATI     SISTEMA Alias  \\\n",
       "0                1  Laboratorio  ...                 SI      Soncor  None   \n",
       "1                1  Laboratorio  ...                 NO  HIDROMORFA  None   \n",
       "2                1  Laboratorio  ...                 NO        None  None   \n",
       "3                1  Laboratorio  ...               None       Peine  None   \n",
       "4                1  Laboratorio  ...                 SI      Soncor  None   \n",
       "...            ...          ...  ...                ...         ...   ...   \n",
       "284682           1  Laboratorio  ...                 SI      Soncor  None   \n",
       "284683           1  Laboratorio  ...                 SI      Soncor  None   \n",
       "284684           1  Laboratorio  ...                 SI      Soncor  None   \n",
       "284685           1  Laboratorio  ...                 SI      Soncor  None   \n",
       "284686           1  Laboratorio  ...                 SI      Soncor  None   \n",
       "\n",
       "                                             geometry    Latitud   Longitud  \\\n",
       "0                        POINT (599918.95 7422645.06) -23.302598 -68.022846   \n",
       "1                         POINT (596135.7 7396451.89) -23.539394 -68.058167   \n",
       "2                        POINT (592286.51 7422403.41) -23.305227 -68.097465   \n",
       "3       POINT (-68.17210151073537 -23.65252654027481) -23.652527 -68.172102   \n",
       "4                        POINT (599918.95 7422645.06) -23.302598 -68.022846   \n",
       "...                                               ...        ...        ...   \n",
       "284682                   POINT (599918.95 7422645.06) -23.302598 -68.022846   \n",
       "284683                   POINT (599918.95 7422645.06) -23.302598 -68.022846   \n",
       "284684                   POINT (599918.95 7422645.06) -23.302598 -68.022846   \n",
       "284685                   POINT (599918.95 7422645.06) -23.302598 -68.022846   \n",
       "284686                   POINT (599918.95 7422645.06) -23.302598 -68.022846   \n",
       "\n",
       "       Activacion Indicador Sistema2 Object_ID  \n",
       "0            None      None      SQM       348  \n",
       "1            None      None      SQM        82  \n",
       "2            None      None     None       277  \n",
       "3            None      None     None         5  \n",
       "4            None      None      SQM       348  \n",
       "...           ...       ...      ...       ...  \n",
       "284682       None      None      SQM       348  \n",
       "284683       None      None      SQM       348  \n",
       "284684       None      None      SQM       348  \n",
       "284685       None      None      SQM       348  \n",
       "284686       None      None      SQM       348  \n",
       "\n",
       "[284687 rows x 58 columns]"
      ]
     },
     "execution_count": 64,
     "metadata": {},
     "output_type": "execute_result"
    }
   ],
   "source": [
    "df_combined"
   ]
  },
  {
   "cell_type": "code",
   "execution_count": 65,
   "metadata": {},
   "outputs": [],
   "source": [
    "table_name3 = 'SQM-Concentraciones_Pivot'\n",
    "df_BD_PIVOT = pd.read_sql_table(table_name3, con=engine)#"
   ]
  },
  {
   "cell_type": "code",
   "execution_count": 7,
   "metadata": {},
   "outputs": [
    {
     "data": {
      "text/plain": [
       "Index(['Object_ID', 'Nombre Infraestructura', 'Nombre Muestra',\n",
       "       'Fecha Muestra', 'Id Analisis Quimico', 'Tipoanalisis',\n",
       "       'Nombre Grupo Trabajo', 'Nombre Laboratorio', 'Nombre Origen Agua',\n",
       "       'Nombre Tipo Muestra',\n",
       "       ...\n",
       "       'Zinc_ppm', 'Isotopo 13C_PDB', 'Isotopo 14C_pmC',\n",
       "       'Isotopo 87Sr/86Sr_s/u', 'Isotopo D_‰', 'Isotopo d11B_‰',\n",
       "       'Isotopo d18O- H2O_‰', 'Isotopo d18O- SO4_‰', 'Isotopo d34S- SO4_‰',\n",
       "       'Isotopo d7 Li_‰'],\n",
       "      dtype='object', length=156)"
      ]
     },
     "execution_count": 7,
     "metadata": {},
     "output_type": "execute_result"
    }
   ],
   "source": [
    "df_BD_PIVOT"
   ]
  },
  {
   "cell_type": "code",
   "execution_count": 66,
   "metadata": {},
   "outputs": [],
   "source": [
    "column_order = [\n",
    "    'Object_ID', 'Nombre Infraestructura', 'Nombre Muestra',\n",
    "    'Fecha Muestra', 'Id Analisis Quimico', 'Tipoanalisis',\n",
    "    'Nombre Grupo Trabajo', 'Nombre Laboratorio', 'Nombre Origen Agua',\n",
    "    'Nombre Tipo Muestra', 'Id Calidad'\n",
    "]\n",
    "\n",
    "# Reorganizamos las columnas según el orden especificado\n",
    "df_combined1 = df_combined[column_order + [col for col in df_combined.columns if col not in column_order]]"
   ]
  },
  {
   "cell_type": "code",
   "execution_count": 67,
   "metadata": {},
   "outputs": [
    {
     "data": {
      "text/html": [
       "<div>\n",
       "<style scoped>\n",
       "    .dataframe tbody tr th:only-of-type {\n",
       "        vertical-align: middle;\n",
       "    }\n",
       "\n",
       "    .dataframe tbody tr th {\n",
       "        vertical-align: top;\n",
       "    }\n",
       "\n",
       "    .dataframe thead th {\n",
       "        text-align: right;\n",
       "    }\n",
       "</style>\n",
       "<table border=\"1\" class=\"dataframe\">\n",
       "  <thead>\n",
       "    <tr style=\"text-align: right;\">\n",
       "      <th></th>\n",
       "      <th>Object_ID</th>\n",
       "      <th>Nombre Infraestructura</th>\n",
       "      <th>Nombre Muestra</th>\n",
       "      <th>Fecha Muestra</th>\n",
       "      <th>Id Analisis Quimico</th>\n",
       "      <th>Tipoanalisis</th>\n",
       "      <th>Nombre Grupo Trabajo</th>\n",
       "      <th>Nombre Laboratorio</th>\n",
       "      <th>Nombre Origen Agua</th>\n",
       "      <th>Nombre Tipo Muestra</th>\n",
       "      <th>...</th>\n",
       "      <th>TIENE_DATO_QCA</th>\n",
       "      <th>TIENE_DATO_ESTRATI</th>\n",
       "      <th>SISTEMA</th>\n",
       "      <th>Alias</th>\n",
       "      <th>geometry</th>\n",
       "      <th>Latitud</th>\n",
       "      <th>Longitud</th>\n",
       "      <th>Activacion</th>\n",
       "      <th>Indicador</th>\n",
       "      <th>Sistema2</th>\n",
       "    </tr>\n",
       "  </thead>\n",
       "  <tbody>\n",
       "    <tr>\n",
       "      <th>0</th>\n",
       "      <td>348</td>\n",
       "      <td>Mullay-1</td>\n",
       "      <td>MULLAY-1|26-04-2018|PSAH|SGS</td>\n",
       "      <td>2018-04-26 00:00:00</td>\n",
       "      <td>258630</td>\n",
       "      <td>Laboratorio</td>\n",
       "      <td>PSAH</td>\n",
       "      <td>SGS</td>\n",
       "      <td>None</td>\n",
       "      <td>Rutina</td>\n",
       "      <td>...</td>\n",
       "      <td>SI</td>\n",
       "      <td>SI</td>\n",
       "      <td>Soncor</td>\n",
       "      <td>None</td>\n",
       "      <td>POINT (599918.95 7422645.06)</td>\n",
       "      <td>-23.302598</td>\n",
       "      <td>-68.022846</td>\n",
       "      <td>None</td>\n",
       "      <td>None</td>\n",
       "      <td>SQM</td>\n",
       "    </tr>\n",
       "    <tr>\n",
       "      <th>1</th>\n",
       "      <td>82</td>\n",
       "      <td>CA-2015</td>\n",
       "      <td>CA-2015 Abril 2017</td>\n",
       "      <td>2017-04-27 00:00:00</td>\n",
       "      <td>267540</td>\n",
       "      <td>Laboratorio</td>\n",
       "      <td>Ambiental</td>\n",
       "      <td>SGS</td>\n",
       "      <td>None</td>\n",
       "      <td>Rutina</td>\n",
       "      <td>...</td>\n",
       "      <td>SI</td>\n",
       "      <td>NO</td>\n",
       "      <td>HIDROMORFA</td>\n",
       "      <td>None</td>\n",
       "      <td>POINT (596135.7 7396451.89)</td>\n",
       "      <td>-23.539394</td>\n",
       "      <td>-68.058167</td>\n",
       "      <td>None</td>\n",
       "      <td>None</td>\n",
       "      <td>SQM</td>\n",
       "    </tr>\n",
       "    <tr>\n",
       "      <th>2</th>\n",
       "      <td>277</td>\n",
       "      <td>L7-14</td>\n",
       "      <td>241|L7-14</td>\n",
       "      <td>2015-10-01 00:00:00</td>\n",
       "      <td>172745</td>\n",
       "      <td>Laboratorio</td>\n",
       "      <td>Ambiental</td>\n",
       "      <td>NC</td>\n",
       "      <td>Agua Subterránea</td>\n",
       "      <td>Rutina</td>\n",
       "      <td>...</td>\n",
       "      <td>SI</td>\n",
       "      <td>NO</td>\n",
       "      <td>None</td>\n",
       "      <td>None</td>\n",
       "      <td>POINT (592286.51 7422403.41)</td>\n",
       "      <td>-23.305227</td>\n",
       "      <td>-68.097465</td>\n",
       "      <td>None</td>\n",
       "      <td>None</td>\n",
       "      <td>None</td>\n",
       "    </tr>\n",
       "    <tr>\n",
       "      <th>3</th>\n",
       "      <td>5</td>\n",
       "      <td>1028</td>\n",
       "      <td>279|1028</td>\n",
       "      <td>2003-03-22 00:00:00</td>\n",
       "      <td>158642</td>\n",
       "      <td>Laboratorio</td>\n",
       "      <td>Ambiental</td>\n",
       "      <td>SALAR</td>\n",
       "      <td>Agua Subterránea</td>\n",
       "      <td>Rutina</td>\n",
       "      <td>...</td>\n",
       "      <td>None</td>\n",
       "      <td>None</td>\n",
       "      <td>Peine</td>\n",
       "      <td>None</td>\n",
       "      <td>POINT (-68.17210151073537 -23.65252654027481)</td>\n",
       "      <td>-23.652527</td>\n",
       "      <td>-68.172102</td>\n",
       "      <td>None</td>\n",
       "      <td>None</td>\n",
       "      <td>None</td>\n",
       "    </tr>\n",
       "    <tr>\n",
       "      <th>4</th>\n",
       "      <td>348</td>\n",
       "      <td>Mullay-1</td>\n",
       "      <td>MULLAY-1|26-04-2018|PSAH|SGS</td>\n",
       "      <td>2018-04-26 00:00:00</td>\n",
       "      <td>258631</td>\n",
       "      <td>Laboratorio</td>\n",
       "      <td>PSAH</td>\n",
       "      <td>SGS</td>\n",
       "      <td>None</td>\n",
       "      <td>Rutina</td>\n",
       "      <td>...</td>\n",
       "      <td>SI</td>\n",
       "      <td>SI</td>\n",
       "      <td>Soncor</td>\n",
       "      <td>None</td>\n",
       "      <td>POINT (599918.95 7422645.06)</td>\n",
       "      <td>-23.302598</td>\n",
       "      <td>-68.022846</td>\n",
       "      <td>None</td>\n",
       "      <td>None</td>\n",
       "      <td>SQM</td>\n",
       "    </tr>\n",
       "    <tr>\n",
       "      <th>...</th>\n",
       "      <td>...</td>\n",
       "      <td>...</td>\n",
       "      <td>...</td>\n",
       "      <td>...</td>\n",
       "      <td>...</td>\n",
       "      <td>...</td>\n",
       "      <td>...</td>\n",
       "      <td>...</td>\n",
       "      <td>...</td>\n",
       "      <td>...</td>\n",
       "      <td>...</td>\n",
       "      <td>...</td>\n",
       "      <td>...</td>\n",
       "      <td>...</td>\n",
       "      <td>...</td>\n",
       "      <td>...</td>\n",
       "      <td>...</td>\n",
       "      <td>...</td>\n",
       "      <td>...</td>\n",
       "      <td>...</td>\n",
       "      <td>...</td>\n",
       "    </tr>\n",
       "    <tr>\n",
       "      <th>284682</th>\n",
       "      <td>348</td>\n",
       "      <td>Mullay-1</td>\n",
       "      <td>MULLAY-1|42121|PSAH</td>\n",
       "      <td>2015-04-27 00:00:00</td>\n",
       "      <td>261484</td>\n",
       "      <td>Laboratorio</td>\n",
       "      <td>PSAH</td>\n",
       "      <td>ALS</td>\n",
       "      <td>None</td>\n",
       "      <td>Rutina</td>\n",
       "      <td>...</td>\n",
       "      <td>SI</td>\n",
       "      <td>SI</td>\n",
       "      <td>Soncor</td>\n",
       "      <td>None</td>\n",
       "      <td>POINT (599918.95 7422645.06)</td>\n",
       "      <td>-23.302598</td>\n",
       "      <td>-68.022846</td>\n",
       "      <td>None</td>\n",
       "      <td>None</td>\n",
       "      <td>SQM</td>\n",
       "    </tr>\n",
       "    <tr>\n",
       "      <th>284683</th>\n",
       "      <td>348</td>\n",
       "      <td>Mullay-1</td>\n",
       "      <td>MULLAY-1|42121|PSAH</td>\n",
       "      <td>2015-04-27 00:00:00</td>\n",
       "      <td>261485</td>\n",
       "      <td>Laboratorio</td>\n",
       "      <td>PSAH</td>\n",
       "      <td>ALS</td>\n",
       "      <td>None</td>\n",
       "      <td>Rutina</td>\n",
       "      <td>...</td>\n",
       "      <td>SI</td>\n",
       "      <td>SI</td>\n",
       "      <td>Soncor</td>\n",
       "      <td>None</td>\n",
       "      <td>POINT (599918.95 7422645.06)</td>\n",
       "      <td>-23.302598</td>\n",
       "      <td>-68.022846</td>\n",
       "      <td>None</td>\n",
       "      <td>None</td>\n",
       "      <td>SQM</td>\n",
       "    </tr>\n",
       "    <tr>\n",
       "      <th>284684</th>\n",
       "      <td>348</td>\n",
       "      <td>Mullay-1</td>\n",
       "      <td>MULLAY-1|40839|PSAH</td>\n",
       "      <td>2011-10-23 00:00:00</td>\n",
       "      <td>258351</td>\n",
       "      <td>Laboratorio</td>\n",
       "      <td>PSAH</td>\n",
       "      <td>ALS</td>\n",
       "      <td>None</td>\n",
       "      <td>Rutina</td>\n",
       "      <td>...</td>\n",
       "      <td>SI</td>\n",
       "      <td>SI</td>\n",
       "      <td>Soncor</td>\n",
       "      <td>None</td>\n",
       "      <td>POINT (599918.95 7422645.06)</td>\n",
       "      <td>-23.302598</td>\n",
       "      <td>-68.022846</td>\n",
       "      <td>None</td>\n",
       "      <td>None</td>\n",
       "      <td>SQM</td>\n",
       "    </tr>\n",
       "    <tr>\n",
       "      <th>284685</th>\n",
       "      <td>348</td>\n",
       "      <td>Mullay-1</td>\n",
       "      <td>MULLAY-1|40839|PSAH</td>\n",
       "      <td>2011-10-23 00:00:00</td>\n",
       "      <td>258352</td>\n",
       "      <td>Laboratorio</td>\n",
       "      <td>PSAH</td>\n",
       "      <td>ALS</td>\n",
       "      <td>None</td>\n",
       "      <td>Rutina</td>\n",
       "      <td>...</td>\n",
       "      <td>SI</td>\n",
       "      <td>SI</td>\n",
       "      <td>Soncor</td>\n",
       "      <td>None</td>\n",
       "      <td>POINT (599918.95 7422645.06)</td>\n",
       "      <td>-23.302598</td>\n",
       "      <td>-68.022846</td>\n",
       "      <td>None</td>\n",
       "      <td>None</td>\n",
       "      <td>SQM</td>\n",
       "    </tr>\n",
       "    <tr>\n",
       "      <th>284686</th>\n",
       "      <td>348</td>\n",
       "      <td>Mullay-1</td>\n",
       "      <td>MULLAY-1|40839|PSAH</td>\n",
       "      <td>2011-10-23 00:00:00</td>\n",
       "      <td>258353</td>\n",
       "      <td>Laboratorio</td>\n",
       "      <td>PSAH</td>\n",
       "      <td>ALS</td>\n",
       "      <td>None</td>\n",
       "      <td>Rutina</td>\n",
       "      <td>...</td>\n",
       "      <td>SI</td>\n",
       "      <td>SI</td>\n",
       "      <td>Soncor</td>\n",
       "      <td>None</td>\n",
       "      <td>POINT (599918.95 7422645.06)</td>\n",
       "      <td>-23.302598</td>\n",
       "      <td>-68.022846</td>\n",
       "      <td>None</td>\n",
       "      <td>None</td>\n",
       "      <td>SQM</td>\n",
       "    </tr>\n",
       "  </tbody>\n",
       "</table>\n",
       "<p>284687 rows × 58 columns</p>\n",
       "</div>"
      ],
      "text/plain": [
       "        Object_ID Nombre Infraestructura                Nombre Muestra  \\\n",
       "0             348               Mullay-1  MULLAY-1|26-04-2018|PSAH|SGS   \n",
       "1              82                CA-2015            CA-2015 Abril 2017   \n",
       "2             277                  L7-14                     241|L7-14   \n",
       "3               5                   1028                      279|1028   \n",
       "4             348               Mullay-1  MULLAY-1|26-04-2018|PSAH|SGS   \n",
       "...           ...                    ...                           ...   \n",
       "284682        348               Mullay-1           MULLAY-1|42121|PSAH   \n",
       "284683        348               Mullay-1           MULLAY-1|42121|PSAH   \n",
       "284684        348               Mullay-1           MULLAY-1|40839|PSAH   \n",
       "284685        348               Mullay-1           MULLAY-1|40839|PSAH   \n",
       "284686        348               Mullay-1           MULLAY-1|40839|PSAH   \n",
       "\n",
       "              Fecha Muestra  Id Analisis Quimico Tipoanalisis  \\\n",
       "0       2018-04-26 00:00:00               258630  Laboratorio   \n",
       "1       2017-04-27 00:00:00               267540  Laboratorio   \n",
       "2       2015-10-01 00:00:00               172745  Laboratorio   \n",
       "3       2003-03-22 00:00:00               158642  Laboratorio   \n",
       "4       2018-04-26 00:00:00               258631  Laboratorio   \n",
       "...                     ...                  ...          ...   \n",
       "284682  2015-04-27 00:00:00               261484  Laboratorio   \n",
       "284683  2015-04-27 00:00:00               261485  Laboratorio   \n",
       "284684  2011-10-23 00:00:00               258351  Laboratorio   \n",
       "284685  2011-10-23 00:00:00               258352  Laboratorio   \n",
       "284686  2011-10-23 00:00:00               258353  Laboratorio   \n",
       "\n",
       "       Nombre Grupo Trabajo Nombre Laboratorio Nombre Origen Agua  \\\n",
       "0                      PSAH                SGS               None   \n",
       "1                 Ambiental                SGS               None   \n",
       "2                 Ambiental                 NC   Agua Subterránea   \n",
       "3                 Ambiental              SALAR   Agua Subterránea   \n",
       "4                      PSAH                SGS               None   \n",
       "...                     ...                ...                ...   \n",
       "284682                 PSAH                ALS               None   \n",
       "284683                 PSAH                ALS               None   \n",
       "284684                 PSAH                ALS               None   \n",
       "284685                 PSAH                ALS               None   \n",
       "284686                 PSAH                ALS               None   \n",
       "\n",
       "       Nombre Tipo Muestra  ...  TIENE_DATO_QCA TIENE_DATO_ESTRATI  \\\n",
       "0                   Rutina  ...              SI                 SI   \n",
       "1                   Rutina  ...              SI                 NO   \n",
       "2                   Rutina  ...              SI                 NO   \n",
       "3                   Rutina  ...            None               None   \n",
       "4                   Rutina  ...              SI                 SI   \n",
       "...                    ...  ...             ...                ...   \n",
       "284682              Rutina  ...              SI                 SI   \n",
       "284683              Rutina  ...              SI                 SI   \n",
       "284684              Rutina  ...              SI                 SI   \n",
       "284685              Rutina  ...              SI                 SI   \n",
       "284686              Rutina  ...              SI                 SI   \n",
       "\n",
       "           SISTEMA  Alias                                       geometry  \\\n",
       "0           Soncor   None                   POINT (599918.95 7422645.06)   \n",
       "1       HIDROMORFA   None                    POINT (596135.7 7396451.89)   \n",
       "2             None   None                   POINT (592286.51 7422403.41)   \n",
       "3            Peine   None  POINT (-68.17210151073537 -23.65252654027481)   \n",
       "4           Soncor   None                   POINT (599918.95 7422645.06)   \n",
       "...            ...    ...                                            ...   \n",
       "284682      Soncor   None                   POINT (599918.95 7422645.06)   \n",
       "284683      Soncor   None                   POINT (599918.95 7422645.06)   \n",
       "284684      Soncor   None                   POINT (599918.95 7422645.06)   \n",
       "284685      Soncor   None                   POINT (599918.95 7422645.06)   \n",
       "284686      Soncor   None                   POINT (599918.95 7422645.06)   \n",
       "\n",
       "          Latitud   Longitud Activacion Indicador Sistema2  \n",
       "0      -23.302598 -68.022846       None      None      SQM  \n",
       "1      -23.539394 -68.058167       None      None      SQM  \n",
       "2      -23.305227 -68.097465       None      None     None  \n",
       "3      -23.652527 -68.172102       None      None     None  \n",
       "4      -23.302598 -68.022846       None      None      SQM  \n",
       "...           ...        ...        ...       ...      ...  \n",
       "284682 -23.302598 -68.022846       None      None      SQM  \n",
       "284683 -23.302598 -68.022846       None      None      SQM  \n",
       "284684 -23.302598 -68.022846       None      None      SQM  \n",
       "284685 -23.302598 -68.022846       None      None      SQM  \n",
       "284686 -23.302598 -68.022846       None      None      SQM  \n",
       "\n",
       "[284687 rows x 58 columns]"
      ]
     },
     "execution_count": 67,
     "metadata": {},
     "output_type": "execute_result"
    }
   ],
   "source": [
    "df_combined1"
   ]
  },
  {
   "cell_type": "code",
   "execution_count": 80,
   "metadata": {},
   "outputs": [],
   "source": [
    "import numpy as np\n",
    "\n",
    "df_combined1['Valor Analitico Num'] = df_combined1['Valor Analitico Num'].fillna('Null')\n",
    "index_columns = [\n",
    "    'Object_ID', 'Nombre Infraestructura', 'Nombre Muestra',\n",
    "    'Fecha Muestra', 'Id Analisis Quimico', 'Tipoanalisis',\n",
    "    'Nombre Grupo Trabajo', 'Nombre Laboratorio', 'Nombre Origen Agua',\n",
    "    'Nombre Tipo Muestra', 'Id Calidad'\n",
    "    \n",
    "]\n",
    "\n",
    "# Creando la tabla pivotada sin aplicar una función de agregación específica\n",
    "df_pivot = pd.pivot_table(\n",
    "    df_combined1,\n",
    "    index=index_columns,\n",
    "    columns=['Nombre Analito_Unidad'],\n",
    "    values='Valor Analitico Num',\n",
    "    aggfunc='first',  # Utilizamos 'first' para tomar el primer valor disponible\n",
    "   \n",
    ").reset_index()\n"
   ]
  },
  {
   "cell_type": "code",
   "execution_count": 81,
   "metadata": {},
   "outputs": [
    {
     "data": {
      "text/html": [
       "<div>\n",
       "<style scoped>\n",
       "    .dataframe tbody tr th:only-of-type {\n",
       "        vertical-align: middle;\n",
       "    }\n",
       "\n",
       "    .dataframe tbody tr th {\n",
       "        vertical-align: top;\n",
       "    }\n",
       "\n",
       "    .dataframe thead th {\n",
       "        text-align: right;\n",
       "    }\n",
       "</style>\n",
       "<table border=\"1\" class=\"dataframe\">\n",
       "  <thead>\n",
       "    <tr style=\"text-align: right;\">\n",
       "      <th>Nombre Analito_Unidad</th>\n",
       "      <th>Object_ID</th>\n",
       "      <th>Nombre Infraestructura</th>\n",
       "      <th>Nombre Muestra</th>\n",
       "      <th>Fecha Muestra</th>\n",
       "      <th>Id Analisis Quimico</th>\n",
       "      <th>Tipoanalisis</th>\n",
       "      <th>Nombre Grupo Trabajo</th>\n",
       "      <th>Nombre Laboratorio</th>\n",
       "      <th>Nombre Origen Agua</th>\n",
       "      <th>Nombre Tipo Muestra</th>\n",
       "      <th>...</th>\n",
       "      <th>TemperaturaConductividad_°C</th>\n",
       "      <th>TemperaturaPh_°C</th>\n",
       "      <th>TemperaturaTerreno_°C</th>\n",
       "      <th>Titanio Disuelto_mg/L</th>\n",
       "      <th>Titanio_mg/L</th>\n",
       "      <th>Vanadio Disuelto_mg/L</th>\n",
       "      <th>Vanadio_mg/L</th>\n",
       "      <th>Zinc Disuelto_mg/L</th>\n",
       "      <th>Zinc_mg/L</th>\n",
       "      <th>pH_pH</th>\n",
       "    </tr>\n",
       "  </thead>\n",
       "  <tbody>\n",
       "    <tr>\n",
       "      <th>0</th>\n",
       "      <td>1</td>\n",
       "      <td>1001</td>\n",
       "      <td>1001 (Balance Iónico)|19-07-2022</td>\n",
       "      <td>2022-07-19 00:00:00</td>\n",
       "      <td>406120</td>\n",
       "      <td>Laboratorio</td>\n",
       "      <td>PSAH Complementario</td>\n",
       "      <td>ALS</td>\n",
       "      <td>Agua Subterránea</td>\n",
       "      <td>Duplicado</td>\n",
       "      <td>...</td>\n",
       "      <td>NaN</td>\n",
       "      <td>NaN</td>\n",
       "      <td>NaN</td>\n",
       "      <td>NaN</td>\n",
       "      <td>NaN</td>\n",
       "      <td>NaN</td>\n",
       "      <td>NaN</td>\n",
       "      <td>NaN</td>\n",
       "      <td>NaN</td>\n",
       "      <td>NaN</td>\n",
       "    </tr>\n",
       "    <tr>\n",
       "      <th>1</th>\n",
       "      <td>1</td>\n",
       "      <td>1001</td>\n",
       "      <td>1001 (Balance Iónico)|19-07-2022</td>\n",
       "      <td>2022-07-19 00:00:00</td>\n",
       "      <td>406121</td>\n",
       "      <td>Laboratorio</td>\n",
       "      <td>PSAH Complementario</td>\n",
       "      <td>ALS</td>\n",
       "      <td>Agua Subterránea</td>\n",
       "      <td>Duplicado</td>\n",
       "      <td>...</td>\n",
       "      <td>NaN</td>\n",
       "      <td>NaN</td>\n",
       "      <td>NaN</td>\n",
       "      <td>NaN</td>\n",
       "      <td>NaN</td>\n",
       "      <td>NaN</td>\n",
       "      <td>NaN</td>\n",
       "      <td>NaN</td>\n",
       "      <td>NaN</td>\n",
       "      <td>NaN</td>\n",
       "    </tr>\n",
       "    <tr>\n",
       "      <th>2</th>\n",
       "      <td>1</td>\n",
       "      <td>1001</td>\n",
       "      <td>1001 (Balance Iónico)|19-07-2022</td>\n",
       "      <td>2022-07-19 00:00:00</td>\n",
       "      <td>406122</td>\n",
       "      <td>Laboratorio</td>\n",
       "      <td>PSAH Complementario</td>\n",
       "      <td>ALS</td>\n",
       "      <td>Agua Subterránea</td>\n",
       "      <td>Duplicado</td>\n",
       "      <td>...</td>\n",
       "      <td>NaN</td>\n",
       "      <td>NaN</td>\n",
       "      <td>NaN</td>\n",
       "      <td>NaN</td>\n",
       "      <td>NaN</td>\n",
       "      <td>NaN</td>\n",
       "      <td>NaN</td>\n",
       "      <td>NaN</td>\n",
       "      <td>NaN</td>\n",
       "      <td>NaN</td>\n",
       "    </tr>\n",
       "    <tr>\n",
       "      <th>3</th>\n",
       "      <td>1</td>\n",
       "      <td>1001</td>\n",
       "      <td>1001 (Balance Iónico)|19-07-2022</td>\n",
       "      <td>2022-07-19 00:00:00</td>\n",
       "      <td>406123</td>\n",
       "      <td>Laboratorio</td>\n",
       "      <td>PSAH Complementario</td>\n",
       "      <td>ALS</td>\n",
       "      <td>Agua Subterránea</td>\n",
       "      <td>Duplicado</td>\n",
       "      <td>...</td>\n",
       "      <td>NaN</td>\n",
       "      <td>NaN</td>\n",
       "      <td>NaN</td>\n",
       "      <td>NaN</td>\n",
       "      <td>NaN</td>\n",
       "      <td>NaN</td>\n",
       "      <td>NaN</td>\n",
       "      <td>NaN</td>\n",
       "      <td>NaN</td>\n",
       "      <td>NaN</td>\n",
       "    </tr>\n",
       "    <tr>\n",
       "      <th>4</th>\n",
       "      <td>1</td>\n",
       "      <td>1001</td>\n",
       "      <td>1001 (Balance Iónico)|19-07-2022</td>\n",
       "      <td>2022-07-19 00:00:00</td>\n",
       "      <td>406124</td>\n",
       "      <td>Laboratorio</td>\n",
       "      <td>PSAH Complementario</td>\n",
       "      <td>ALS</td>\n",
       "      <td>Agua Subterránea</td>\n",
       "      <td>Duplicado</td>\n",
       "      <td>...</td>\n",
       "      <td>NaN</td>\n",
       "      <td>NaN</td>\n",
       "      <td>NaN</td>\n",
       "      <td>NaN</td>\n",
       "      <td>NaN</td>\n",
       "      <td>NaN</td>\n",
       "      <td>NaN</td>\n",
       "      <td>NaN</td>\n",
       "      <td>NaN</td>\n",
       "      <td>NaN</td>\n",
       "    </tr>\n",
       "    <tr>\n",
       "      <th>...</th>\n",
       "      <td>...</td>\n",
       "      <td>...</td>\n",
       "      <td>...</td>\n",
       "      <td>...</td>\n",
       "      <td>...</td>\n",
       "      <td>...</td>\n",
       "      <td>...</td>\n",
       "      <td>...</td>\n",
       "      <td>...</td>\n",
       "      <td>...</td>\n",
       "      <td>...</td>\n",
       "      <td>...</td>\n",
       "      <td>...</td>\n",
       "      <td>...</td>\n",
       "      <td>...</td>\n",
       "      <td>...</td>\n",
       "      <td>...</td>\n",
       "      <td>...</td>\n",
       "      <td>...</td>\n",
       "      <td>...</td>\n",
       "      <td>...</td>\n",
       "    </tr>\n",
       "    <tr>\n",
       "      <th>135261</th>\n",
       "      <td>520</td>\n",
       "      <td>PE-9, C-112</td>\n",
       "      <td>PE-9, C-112|27-12-2022</td>\n",
       "      <td>2022-12-27 00:00:00</td>\n",
       "      <td>419188</td>\n",
       "      <td>Laboratorio</td>\n",
       "      <td>Ambiental</td>\n",
       "      <td>ALS</td>\n",
       "      <td>Agua Subterránea</td>\n",
       "      <td>Rutina</td>\n",
       "      <td>...</td>\n",
       "      <td>NaN</td>\n",
       "      <td>NaN</td>\n",
       "      <td>NaN</td>\n",
       "      <td>NaN</td>\n",
       "      <td>NaN</td>\n",
       "      <td>NaN</td>\n",
       "      <td>NaN</td>\n",
       "      <td>NaN</td>\n",
       "      <td>0.0025</td>\n",
       "      <td>NaN</td>\n",
       "    </tr>\n",
       "    <tr>\n",
       "      <th>135262</th>\n",
       "      <td>520</td>\n",
       "      <td>PE-9, C-112</td>\n",
       "      <td>PE-9, C-112|27-12-2022</td>\n",
       "      <td>2022-12-27 00:00:00</td>\n",
       "      <td>419207</td>\n",
       "      <td>Terreno</td>\n",
       "      <td>Ambiental</td>\n",
       "      <td>SQM</td>\n",
       "      <td>Agua Subterránea</td>\n",
       "      <td>Rutina</td>\n",
       "      <td>...</td>\n",
       "      <td>NaN</td>\n",
       "      <td>NaN</td>\n",
       "      <td>25.0</td>\n",
       "      <td>NaN</td>\n",
       "      <td>NaN</td>\n",
       "      <td>NaN</td>\n",
       "      <td>NaN</td>\n",
       "      <td>NaN</td>\n",
       "      <td>NaN</td>\n",
       "      <td>NaN</td>\n",
       "    </tr>\n",
       "    <tr>\n",
       "      <th>135263</th>\n",
       "      <td>520</td>\n",
       "      <td>PE-9, C-112</td>\n",
       "      <td>PE-9, C-112|27-12-2022</td>\n",
       "      <td>2022-12-27 00:00:00</td>\n",
       "      <td>419208</td>\n",
       "      <td>Terreno</td>\n",
       "      <td>Ambiental</td>\n",
       "      <td>SQM</td>\n",
       "      <td>Agua Subterránea</td>\n",
       "      <td>Rutina</td>\n",
       "      <td>...</td>\n",
       "      <td>NaN</td>\n",
       "      <td>NaN</td>\n",
       "      <td>NaN</td>\n",
       "      <td>NaN</td>\n",
       "      <td>NaN</td>\n",
       "      <td>NaN</td>\n",
       "      <td>NaN</td>\n",
       "      <td>NaN</td>\n",
       "      <td>NaN</td>\n",
       "      <td>NaN</td>\n",
       "    </tr>\n",
       "    <tr>\n",
       "      <th>135264</th>\n",
       "      <td>520</td>\n",
       "      <td>PE-9, C-112</td>\n",
       "      <td>PE-9, C-112|27-12-2022</td>\n",
       "      <td>2022-12-27 00:00:00</td>\n",
       "      <td>419209</td>\n",
       "      <td>Terreno</td>\n",
       "      <td>Ambiental</td>\n",
       "      <td>SQM</td>\n",
       "      <td>Agua Subterránea</td>\n",
       "      <td>Rutina</td>\n",
       "      <td>...</td>\n",
       "      <td>NaN</td>\n",
       "      <td>NaN</td>\n",
       "      <td>NaN</td>\n",
       "      <td>NaN</td>\n",
       "      <td>NaN</td>\n",
       "      <td>NaN</td>\n",
       "      <td>NaN</td>\n",
       "      <td>NaN</td>\n",
       "      <td>NaN</td>\n",
       "      <td>NaN</td>\n",
       "    </tr>\n",
       "    <tr>\n",
       "      <th>135265</th>\n",
       "      <td>520</td>\n",
       "      <td>PE-9, C-112</td>\n",
       "      <td>PE-9, C-112|27-12-2022</td>\n",
       "      <td>2022-12-27 00:00:00</td>\n",
       "      <td>419210</td>\n",
       "      <td>Terreno</td>\n",
       "      <td>Ambiental</td>\n",
       "      <td>SQM</td>\n",
       "      <td>Agua Subterránea</td>\n",
       "      <td>Rutina</td>\n",
       "      <td>...</td>\n",
       "      <td>NaN</td>\n",
       "      <td>NaN</td>\n",
       "      <td>NaN</td>\n",
       "      <td>NaN</td>\n",
       "      <td>NaN</td>\n",
       "      <td>NaN</td>\n",
       "      <td>NaN</td>\n",
       "      <td>NaN</td>\n",
       "      <td>NaN</td>\n",
       "      <td>NaN</td>\n",
       "    </tr>\n",
       "  </tbody>\n",
       "</table>\n",
       "<p>135266 rows × 133 columns</p>\n",
       "</div>"
      ],
      "text/plain": [
       "Nombre Analito_Unidad  Object_ID Nombre Infraestructura  \\\n",
       "0                              1                   1001   \n",
       "1                              1                   1001   \n",
       "2                              1                   1001   \n",
       "3                              1                   1001   \n",
       "4                              1                   1001   \n",
       "...                          ...                    ...   \n",
       "135261                       520            PE-9, C-112   \n",
       "135262                       520            PE-9, C-112   \n",
       "135263                       520            PE-9, C-112   \n",
       "135264                       520            PE-9, C-112   \n",
       "135265                       520            PE-9, C-112   \n",
       "\n",
       "Nombre Analito_Unidad                    Nombre Muestra        Fecha Muestra  \\\n",
       "0                      1001 (Balance Iónico)|19-07-2022  2022-07-19 00:00:00   \n",
       "1                      1001 (Balance Iónico)|19-07-2022  2022-07-19 00:00:00   \n",
       "2                      1001 (Balance Iónico)|19-07-2022  2022-07-19 00:00:00   \n",
       "3                      1001 (Balance Iónico)|19-07-2022  2022-07-19 00:00:00   \n",
       "4                      1001 (Balance Iónico)|19-07-2022  2022-07-19 00:00:00   \n",
       "...                                                 ...                  ...   \n",
       "135261                           PE-9, C-112|27-12-2022  2022-12-27 00:00:00   \n",
       "135262                           PE-9, C-112|27-12-2022  2022-12-27 00:00:00   \n",
       "135263                           PE-9, C-112|27-12-2022  2022-12-27 00:00:00   \n",
       "135264                           PE-9, C-112|27-12-2022  2022-12-27 00:00:00   \n",
       "135265                           PE-9, C-112|27-12-2022  2022-12-27 00:00:00   \n",
       "\n",
       "Nombre Analito_Unidad  Id Analisis Quimico Tipoanalisis Nombre Grupo Trabajo  \\\n",
       "0                                   406120  Laboratorio  PSAH Complementario   \n",
       "1                                   406121  Laboratorio  PSAH Complementario   \n",
       "2                                   406122  Laboratorio  PSAH Complementario   \n",
       "3                                   406123  Laboratorio  PSAH Complementario   \n",
       "4                                   406124  Laboratorio  PSAH Complementario   \n",
       "...                                    ...          ...                  ...   \n",
       "135261                              419188  Laboratorio            Ambiental   \n",
       "135262                              419207      Terreno            Ambiental   \n",
       "135263                              419208      Terreno            Ambiental   \n",
       "135264                              419209      Terreno            Ambiental   \n",
       "135265                              419210      Terreno            Ambiental   \n",
       "\n",
       "Nombre Analito_Unidad Nombre Laboratorio Nombre Origen Agua  \\\n",
       "0                                    ALS   Agua Subterránea   \n",
       "1                                    ALS   Agua Subterránea   \n",
       "2                                    ALS   Agua Subterránea   \n",
       "3                                    ALS   Agua Subterránea   \n",
       "4                                    ALS   Agua Subterránea   \n",
       "...                                  ...                ...   \n",
       "135261                               ALS   Agua Subterránea   \n",
       "135262                               SQM   Agua Subterránea   \n",
       "135263                               SQM   Agua Subterránea   \n",
       "135264                               SQM   Agua Subterránea   \n",
       "135265                               SQM   Agua Subterránea   \n",
       "\n",
       "Nombre Analito_Unidad Nombre Tipo Muestra  ...  TemperaturaConductividad_°C  \\\n",
       "0                               Duplicado  ...                          NaN   \n",
       "1                               Duplicado  ...                          NaN   \n",
       "2                               Duplicado  ...                          NaN   \n",
       "3                               Duplicado  ...                          NaN   \n",
       "4                               Duplicado  ...                          NaN   \n",
       "...                                   ...  ...                          ...   \n",
       "135261                             Rutina  ...                          NaN   \n",
       "135262                             Rutina  ...                          NaN   \n",
       "135263                             Rutina  ...                          NaN   \n",
       "135264                             Rutina  ...                          NaN   \n",
       "135265                             Rutina  ...                          NaN   \n",
       "\n",
       "Nombre Analito_Unidad TemperaturaPh_°C TemperaturaTerreno_°C  \\\n",
       "0                                  NaN                   NaN   \n",
       "1                                  NaN                   NaN   \n",
       "2                                  NaN                   NaN   \n",
       "3                                  NaN                   NaN   \n",
       "4                                  NaN                   NaN   \n",
       "...                                ...                   ...   \n",
       "135261                             NaN                   NaN   \n",
       "135262                             NaN                  25.0   \n",
       "135263                             NaN                   NaN   \n",
       "135264                             NaN                   NaN   \n",
       "135265                             NaN                   NaN   \n",
       "\n",
       "Nombre Analito_Unidad Titanio Disuelto_mg/L Titanio_mg/L  \\\n",
       "0                                       NaN          NaN   \n",
       "1                                       NaN          NaN   \n",
       "2                                       NaN          NaN   \n",
       "3                                       NaN          NaN   \n",
       "4                                       NaN          NaN   \n",
       "...                                     ...          ...   \n",
       "135261                                  NaN          NaN   \n",
       "135262                                  NaN          NaN   \n",
       "135263                                  NaN          NaN   \n",
       "135264                                  NaN          NaN   \n",
       "135265                                  NaN          NaN   \n",
       "\n",
       "Nombre Analito_Unidad Vanadio Disuelto_mg/L Vanadio_mg/L Zinc Disuelto_mg/L  \\\n",
       "0                                       NaN          NaN                NaN   \n",
       "1                                       NaN          NaN                NaN   \n",
       "2                                       NaN          NaN                NaN   \n",
       "3                                       NaN          NaN                NaN   \n",
       "4                                       NaN          NaN                NaN   \n",
       "...                                     ...          ...                ...   \n",
       "135261                                  NaN          NaN                NaN   \n",
       "135262                                  NaN          NaN                NaN   \n",
       "135263                                  NaN          NaN                NaN   \n",
       "135264                                  NaN          NaN                NaN   \n",
       "135265                                  NaN          NaN                NaN   \n",
       "\n",
       "Nombre Analito_Unidad Zinc_mg/L pH_pH  \n",
       "0                           NaN   NaN  \n",
       "1                           NaN   NaN  \n",
       "2                           NaN   NaN  \n",
       "3                           NaN   NaN  \n",
       "4                           NaN   NaN  \n",
       "...                         ...   ...  \n",
       "135261                   0.0025   NaN  \n",
       "135262                      NaN   NaN  \n",
       "135263                      NaN   NaN  \n",
       "135264                      NaN   NaN  \n",
       "135265                      NaN   NaN  \n",
       "\n",
       "[135266 rows x 133 columns]"
      ]
     },
     "execution_count": 81,
     "metadata": {},
     "output_type": "execute_result"
    }
   ],
   "source": [
    "df_pivot"
   ]
  },
  {
   "cell_type": "code",
   "execution_count": 84,
   "metadata": {},
   "outputs": [
    {
     "name": "stdout",
     "output_type": "stream",
     "text": [
      "Número de valores únicos en 'Nombre Analito_Unidad': 284687\n"
     ]
    }
   ],
   "source": [
    "# Obteniendo todos los valores únicos para 'Nombre Analito_Unidad'\n",
    "all_possible_values = df_combined1['Valor Analitico Num'].notnull()\n",
    "\n",
    "# Contando el número de valores únicos\n",
    "number_of_unique_values = len(all_possible_values)\n",
    "\n",
    "print(\"Número de valores únicos en 'Nombre Analito_Unidad':\", number_of_unique_values)\n"
   ]
  },
  {
   "cell_type": "code",
   "execution_count": 85,
   "metadata": {},
   "outputs": [
    {
     "data": {
      "text/plain": [
       "26"
      ]
     },
     "execution_count": 85,
     "metadata": {},
     "output_type": "execute_result"
    }
   ],
   "source": [
    "\n",
    "\n",
    "df_pivot.to_sql('SQM-Concentraciones_PIVOT_07_04', engine, index=False, if_exists='replace',)"
   ]
  },
  {
   "cell_type": "code",
   "execution_count": 1,
   "metadata": {},
   "outputs": [
    {
     "data": {
      "image/png": "[encoded data removed]",
      "text/plain": [
       "<Figure size 1000x1000 with 1 Axes>"
      ]
     },
     "metadata": {},
     "output_type": "display_data"
    }
   ],
   "source": [
    "import numpy as np\n",
    "import matplotlib.pyplot as plt\n",
    "\n",
    "def plot_piper(cations, anions):\n",
    "    def trilinear_transform(ca, mg, na_k):\n",
    "        total = ca + mg + na_k\n",
    "        x = 0.5 * (2 * mg + na_k) / total\n",
    "        y = (np.sqrt(3) / 2) * na_k / total\n",
    "        return x, y\n",
    "\n",
    "    def transform_to_piper(ca, mg, na_k, cl, so4, hco3_co3):\n",
    "        cation_x, cation_y = trilinear_transform(ca, mg, na_k)\n",
    "        anion_x, anion_y = trilinear_transform(cl, so4, hco3_co3)\n",
    "        \n",
    "        return cation_x, cation_y, anion_x, anion_y\n",
    "\n",
    "    fig, ax = plt.subplots(figsize=(10, 10))\n",
    "    ax.set_aspect('equal')\n",
    "\n",
    "    ca = np.array([sample['Ca'] for sample in cations])\n",
    "    mg = np.array([sample['Mg'] for sample in cations])\n",
    "    na_k = np.array([sample['Na_K'] for sample in cations])\n",
    "\n",
    "    cl = np.array([sample['Cl'] for sample in anions])\n",
    "    so4 = np.array([sample['SO4'] for sample in anions])\n",
    "    hco3_co3 = np.array([sample['HCO3_CO3'] for sample in anions])\n",
    "\n",
    "    cation_x, cation_y, anion_x, anion_y = transform_to_piper(ca, mg, na_k, cl, so4, hco3_co3)\n",
    "\n",
    "    ax.scatter(cation_x, cation_y, c='r', label='Cations')\n",
    "    ax.scatter(anion_x, anion_y, c='b', label='Anions')\n",
    "\n",
    "    ax.plot([0, 0.5, 1, 0], [0, np.sqrt(3) / 2, 0, 0], 'k-')\n",
    "    ax.plot([0.5, 0.5], [0, np.sqrt(3) / 2], 'k-')\n",
    "    ax.plot([0, 1], [0, 0], 'k-')\n",
    "\n",
    "    ax.legend()\n",
    "    ax.set_title('Piper Diagram')\n",
    "    ax.set_xlabel('Cations and Anions')\n",
    "\n",
    "    plt.show()\n",
    "\n",
    "# Datos de ejemplo para cationes y aniones\n",
    "cations = [\n",
    "    {'Ca': 10, 'Mg': 5, 'Na_K': 2},\n",
    "    {'Ca': 7, 'Mg': 3, 'Na_K': 5},\n",
    "    {'Ca': 8, 'Mg': 2, 'Na_K': 7}\n",
    "]\n",
    "\n",
    "anions = [\n",
    "    {'Cl': 8, 'SO4': 4, 'HCO3_CO3': 5},\n",
    "    {'Cl': 7, 'SO4': 6, 'HCO3_CO3': 3},\n",
    "    {'Cl': 6, 'SO4': 2, 'HCO3_CO3': 8}\n",
    "]\n",
    "\n",
    "plot_piper(cations, anions)"
   ]
  },
  {
   "cell_type": "code",
   "execution_count": 1,
   "metadata": {},
   "outputs": [
    {
     "data": {
      "application/vnd.plotly.v1+json": {
       "config": {
        "plotlyServerURL": "https://plot.ly"
       },
       "data": [
        {
         "marker": {
          "color": "red"
         },
         "mode": "markers",
         "name": "Cations",
         "type": "scatter",
         "x": [
          0.3704609831827071,
          0.4125966096868817,
          0.4595706770275405
         ],
         "y": [
          0.09365750101770577,
          0.22373250783149504,
          0.13716696615922
         ]
        },
        {
         "marker": {
          "color": "blue"
         },
         "mode": "markers",
         "name": "Anions",
         "type": "scatter",
         "x": [
          0.5304197131908741,
          0.51711883548123,
          0.5227767358432049
         ],
         "y": [
          0.35544280455539207,
          0.28277985143491263,
          0.33295229756217865
         ]
        },
        {
         "line": {
          "color": "black"
         },
         "mode": "lines",
         "showlegend": false,
         "type": "scatter",
         "x": [
          0,
          0.5,
          1,
          0
         ],
         "y": [
          0,
          0.8660254037844386,
          0,
          0
         ]
        },
        {
         "line": {
          "color": "black"
         },
         "mode": "lines",
         "showlegend": false,
         "type": "scatter",
         "x": [
          0.5,
          0.5
         ],
         "y": [
          0,
          0.8660254037844386
         ]
        },
        {
         "line": {
          "color": "black"
         },
         "mode": "lines",
         "showlegend": false,
         "type": "scatter",
         "x": [
          0,
          1
         ],
         "y": [
          0,
          0
         ]
        }
       ],
       "layout": {
        "showlegend": true,
        "template": {
         "data": {
          "bar": [
           {
            "error_x": {
             "color": "#2a3f5f"
            },
            "error_y": {
             "color": "#2a3f5f"
            },
            "marker": {
             "line": {
              "color": "#E5ECF6",
              "width": 0.5
             },
             "pattern": {
              "fillmode": "overlay",
              "size": 10,
              "solidity": 0.2
             }
            },
            "type": "bar"
           }
          ],
          "barpolar": [
           {
            "marker": {
             "line": {
              "color": "#E5ECF6",
              "width": 0.5
             },
             "pattern": {
              "fillmode": "overlay",
              "size": 10,
              "solidity": 0.2
             }
            },
            "type": "barpolar"
           }
          ],
          "carpet": [
           {
            "aaxis": {
             "endlinecolor": "#2a3f5f",
             "gridcolor": "white",
             "linecolor": "white",
             "minorgridcolor": "white",
             "startlinecolor": "#2a3f5f"
            },
            "baxis": {
             "endlinecolor": "#2a3f5f",
             "gridcolor": "white",
             "linecolor": "white",
             "minorgridcolor": "white",
             "startlinecolor": "#2a3f5f"
            },
            "type": "carpet"
           }
          ],
          "choropleth": [
           {
            "colorbar": {
             "outlinewidth": 0,
             "ticks": ""
            },
            "type": "choropleth"
           }
          ],
          "contour": [
           {
            "colorbar": {
             "outlinewidth": 0,
             "ticks": ""
            },
            "colorscale": [
             [
              0,
              "#0d0887"
             ],
             [
              0.1111111111111111,
              "#46039f"
             ],
             [
              0.2222222222222222,
              "#7201a8"
             ],
             [
              0.3333333333333333,
              "#9c179e"
             ],
             [
              0.4444444444444444,
              "#bd3786"
             ],
             [
              0.5555555555555556,
              "#d8576b"
             ],
             [
              0.6666666666666666,
              "#ed7953"
             ],
             [
              0.7777777777777778,
              "#fb9f3a"
             ],
             [
              0.8888888888888888,
              "#fdca26"
             ],
             [
              1,
              "#f0f921"
             ]
            ],
            "type": "contour"
           }
          ],
          "contourcarpet": [
           {
            "colorbar": {
             "outlinewidth": 0,
             "ticks": ""
            },
            "type": "contourcarpet"
           }
          ],
          "heatmap": [
           {
            "colorbar": {
             "outlinewidth": 0,
             "ticks": ""
            },
            "colorscale": [
             [
              0,
              "#0d0887"
             ],
             [
              0.1111111111111111,
              "#46039f"
             ],
             [
              0.2222222222222222,
              "#7201a8"
             ],
             [
              0.3333333333333333,
              "#9c179e"
             ],
             [
              0.4444444444444444,
              "#bd3786"
             ],
             [
              0.5555555555555556,
              "#d8576b"
             ],
             [
              0.6666666666666666,
              "#ed7953"
             ],
             [
              0.7777777777777778,
              "#fb9f3a"
             ],
             [
              0.8888888888888888,
              "#fdca26"
             ],
             [
              1,
              "#f0f921"
             ]
            ],
            "type": "heatmap"
           }
          ],
          "heatmapgl": [
           {
            "colorbar": {
             "outlinewidth": 0,
             "ticks": ""
            },
            "colorscale": [
             [
              0,
              "#0d0887"
             ],
             [
              0.1111111111111111,
              "#46039f"
             ],
             [
              0.2222222222222222,
              "#7201a8"
             ],
             [
              0.3333333333333333,
              "#9c179e"
             ],
             [
              0.4444444444444444,
              "#bd3786"
             ],
             [
              0.5555555555555556,
              "#d8576b"
             ],
             [
              0.6666666666666666,
              "#ed7953"
             ],
             [
              0.7777777777777778,
              "#fb9f3a"
             ],
             [
              0.8888888888888888,
              "#fdca26"
             ],
             [
              1,
              "#f0f921"
             ]
            ],
            "type": "heatmapgl"
           }
          ],
          "histogram": [
           {
            "marker": {
             "pattern": {
              "fillmode": "overlay",
              "size": 10,
              "solidity": 0.2
             }
            },
            "type": "histogram"
           }
          ],
          "histogram2d": [
           {
            "colorbar": {
             "outlinewidth": 0,
             "ticks": ""
            },
            "colorscale": [
             [
              0,
              "#0d0887"
             ],
             [
              0.1111111111111111,
              "#46039f"
             ],
             [
              0.2222222222222222,
              "#7201a8"
             ],
             [
              0.3333333333333333,
              "#9c179e"
             ],
             [
              0.4444444444444444,
              "#bd3786"
             ],
             [
              0.5555555555555556,
              "#d8576b"
             ],
             [
              0.6666666666666666,
              "#ed7953"
             ],
             [
              0.7777777777777778,
              "#fb9f3a"
             ],
             [
              0.8888888888888888,
              "#fdca26"
             ],
             [
              1,
              "#f0f921"
             ]
            ],
            "type": "histogram2d"
           }
          ],
          "histogram2dcontour": [
           {
            "colorbar": {
             "outlinewidth": 0,
             "ticks": ""
            },
            "colorscale": [
             [
              0,
              "#0d0887"
             ],
             [
              0.1111111111111111,
              "#46039f"
             ],
             [
              0.2222222222222222,
              "#7201a8"
             ],
             [
              0.3333333333333333,
              "#9c179e"
             ],
             [
              0.4444444444444444,
              "#bd3786"
             ],
             [
              0.5555555555555556,
              "#d8576b"
             ],
             [
              0.6666666666666666,
              "#ed7953"
             ],
             [
              0.7777777777777778,
              "#fb9f3a"
             ],
             [
              0.8888888888888888,
              "#fdca26"
             ],
             [
              1,
              "#f0f921"
             ]
            ],
            "type": "histogram2dcontour"
           }
          ],
          "mesh3d": [
           {
            "colorbar": {
             "outlinewidth": 0,
             "ticks": ""
            },
            "type": "mesh3d"
           }
          ],
          "parcoords": [
           {
            "line": {
             "colorbar": {
              "outlinewidth": 0,
              "ticks": ""
             }
            },
            "type": "parcoords"
           }
          ],
          "pie": [
           {
            "automargin": true,
            "type": "pie"
           }
          ],
          "scatter": [
           {
            "fillpattern": {
             "fillmode": "overlay",
             "size": 10,
             "solidity": 0.2
            },
            "type": "scatter"
           }
          ],
          "scatter3d": [
           {
            "line": {
             "colorbar": {
              "outlinewidth": 0,
              "ticks": ""
             }
            },
            "marker": {
             "colorbar": {
              "outlinewidth": 0,
              "ticks": ""
             }
            },
            "type": "scatter3d"
           }
          ],
          "scattercarpet": [
           {
            "marker": {
             "colorbar": {
              "outlinewidth": 0,
              "ticks": ""
             }
            },
            "type": "scattercarpet"
           }
          ],
          "scattergeo": [
           {
            "marker": {
             "colorbar": {
              "outlinewidth": 0,
              "ticks": ""
             }
            },
            "type": "scattergeo"
           }
          ],
          "scattergl": [
           {
            "marker": {
             "colorbar": {
              "outlinewidth": 0,
              "ticks": ""
             }
            },
            "type": "scattergl"
           }
          ],
          "scattermapbox": [
           {
            "marker": {
             "colorbar": {
              "outlinewidth": 0,
              "ticks": ""
             }
            },
            "type": "scattermapbox"
           }
          ],
          "scatterpolar": [
           {
            "marker": {
             "colorbar": {
              "outlinewidth": 0,
              "ticks": ""
             }
            },
            "type": "scatterpolar"
           }
          ],
          "scatterpolargl": [
           {
            "marker": {
             "colorbar": {
              "outlinewidth": 0,
              "ticks": ""
             }
            },
            "type": "scatterpolargl"
           }
          ],
          "scatterternary": [
           {
            "marker": {
             "colorbar": {
              "outlinewidth": 0,
              "ticks": ""
             }
            },
            "type": "scatterternary"
           }
          ],
          "surface": [
           {
            "colorbar": {
             "outlinewidth": 0,
             "ticks": ""
            },
            "colorscale": [
             [
              0,
              "#0d0887"
             ],
             [
              0.1111111111111111,
              "#46039f"
             ],
             [
              0.2222222222222222,
              "#7201a8"
             ],
             [
              0.3333333333333333,
              "#9c179e"
             ],
             [
              0.4444444444444444,
              "#bd3786"
             ],
             [
              0.5555555555555556,
              "#d8576b"
             ],
             [
              0.6666666666666666,
              "#ed7953"
             ],
             [
              0.7777777777777778,
              "#fb9f3a"
             ],
             [
              0.8888888888888888,
              "#fdca26"
             ],
             [
              1,
              "#f0f921"
             ]
            ],
            "type": "surface"
           }
          ],
          "table": [
           {
            "cells": {
             "fill": {
              "color": "#EBF0F8"
             },
             "line": {
              "color": "white"
             }
            },
            "header": {
             "fill": {
              "color": "#C8D4E3"
             },
             "line": {
              "color": "white"
             }
            },
            "type": "table"
           }
          ]
         },
         "layout": {
          "annotationdefaults": {
           "arrowcolor": "#2a3f5f",
           "arrowhead": 0,
           "arrowwidth": 1
          },
          "autotypenumbers": "strict",
          "coloraxis": {
           "colorbar": {
            "outlinewidth": 0,
            "ticks": ""
           }
          },
          "colorscale": {
           "diverging": [
            [
             0,
             "#8e0152"
            ],
            [
             0.1,
             "#c51b7d"
            ],
            [
             0.2,
             "#de77ae"
            ],
            [
             0.3,
             "#f1b6da"
            ],
            [
             0.4,
             "#fde0ef"
            ],
            [
             0.5,
             "#f7f7f7"
            ],
            [
             0.6,
             "#e6f5d0"
            ],
            [
             0.7,
             "#b8e186"
            ],
            [
             0.8,
             "#7fbc41"
            ],
            [
             0.9,
             "#4d9221"
            ],
            [
             1,
             "#276419"
            ]
           ],
           "sequential": [
            [
             0,
             "#0d0887"
            ],
            [
             0.1111111111111111,
             "#46039f"
            ],
            [
             0.2222222222222222,
             "#7201a8"
            ],
            [
             0.3333333333333333,
             "#9c179e"
            ],
            [
             0.4444444444444444,
             "#bd3786"
            ],
            [
             0.5555555555555556,
             "#d8576b"
            ],
            [
             0.6666666666666666,
             "#ed7953"
            ],
            [
             0.7777777777777778,
             "#fb9f3a"
            ],
            [
             0.8888888888888888,
             "#fdca26"
            ],
            [
             1,
             "#f0f921"
            ]
           ],
           "sequentialminus": [
            [
             0,
             "#0d0887"
            ],
            [
             0.1111111111111111,
             "#46039f"
            ],
            [
             0.2222222222222222,
             "#7201a8"
            ],
            [
             0.3333333333333333,
             "#9c179e"
            ],
            [
             0.4444444444444444,
             "#bd3786"
            ],
            [
             0.5555555555555556,
             "#d8576b"
            ],
            [
             0.6666666666666666,
             "#ed7953"
            ],
            [
             0.7777777777777778,
             "#fb9f3a"
            ],
            [
             0.8888888888888888,
             "#fdca26"
            ],
            [
             1,
             "#f0f921"
            ]
           ]
          },
          "colorway": [
           "#636efa",
           "#EF553B",
           "#00cc96",
           "#ab63fa",
           "#FFA15A",
           "#19d3f3",
           "#FF6692",
           "#B6E880",
           "#FF97FF",
           "#FECB52"
          ],
          "font": {
           "color": "#2a3f5f"
          },
          "geo": {
           "bgcolor": "white",
           "lakecolor": "white",
           "landcolor": "#E5ECF6",
           "showlakes": true,
           "showland": true,
           "subunitcolor": "white"
          },
          "hoverlabel": {
           "align": "left"
          },
          "hovermode": "closest",
          "mapbox": {
           "style": "light"
          },
          "paper_bgcolor": "white",
          "plot_bgcolor": "#E5ECF6",
          "polar": {
           "angularaxis": {
            "gridcolor": "white",
            "linecolor": "white",
            "ticks": ""
           },
           "bgcolor": "#E5ECF6",
           "radialaxis": {
            "gridcolor": "white",
            "linecolor": "white",
            "ticks": ""
           }
          },
          "scene": {
           "xaxis": {
            "backgroundcolor": "#E5ECF6",
            "gridcolor": "white",
            "gridwidth": 2,
            "linecolor": "white",
            "showbackground": true,
            "ticks": "",
            "zerolinecolor": "white"
           },
           "yaxis": {
            "backgroundcolor": "#E5ECF6",
            "gridcolor": "white",
            "gridwidth": 2,
            "linecolor": "white",
            "showbackground": true,
            "ticks": "",
            "zerolinecolor": "white"
           },
           "zaxis": {
            "backgroundcolor": "#E5ECF6",
            "gridcolor": "white",
            "gridwidth": 2,
            "linecolor": "white",
            "showbackground": true,
            "ticks": "",
            "zerolinecolor": "white"
           }
          },
          "shapedefaults": {
           "line": {
            "color": "#2a3f5f"
           }
          },
          "ternary": {
           "aaxis": {
            "gridcolor": "white",
            "linecolor": "white",
            "ticks": ""
           },
           "baxis": {
            "gridcolor": "white",
            "linecolor": "white",
            "ticks": ""
           },
           "bgcolor": "#E5ECF6",
           "caxis": {
            "gridcolor": "white",
            "linecolor": "white",
            "ticks": ""
           }
          },
          "title": {
           "x": 0.05
          },
          "xaxis": {
           "automargin": true,
           "gridcolor": "white",
           "linecolor": "white",
           "ticks": "",
           "title": {
            "standoff": 15
           },
           "zerolinecolor": "white",
           "zerolinewidth": 2
          },
          "yaxis": {
           "automargin": true,
           "gridcolor": "white",
           "linecolor": "white",
           "ticks": "",
           "title": {
            "standoff": 15
           },
           "zerolinecolor": "white",
           "zerolinewidth": 2
          }
         }
        },
        "title": {
         "text": "Piper Diagram"
        },
        "xaxis": {
         "title": {
          "text": "Cations and Anions"
         }
        },
        "yaxis": {
         "scaleanchor": "x",
         "scaleratio": 1
        }
       }
      }
     },
     "metadata": {},
     "output_type": "display_data"
    }
   ],
   "source": [
    "import numpy as np\n",
    "import plotly.graph_objects as go\n",
    "\n",
    "def mg_to_meq(concentration, equivalent_weight):\n",
    "    return concentration / equivalent_weight\n",
    "\n",
    "weights = {\n",
    "    'Ca': 20.04,\n",
    "    'Mg': 12.15,\n",
    "    'Na': 23.0,\n",
    "    'K': 39.1,\n",
    "    'Cl': 35.45,\n",
    "    'SO4': 48.03,\n",
    "    'HCO3': 61.02,\n",
    "    'CO3': 30.0\n",
    "}\n",
    "\n",
    "def trilinear_transform(ca, mg, na_k):\n",
    "    total = ca + mg + na_k\n",
    "    x = 0.5 * (2 * mg + na_k) / total\n",
    "    y = (np.sqrt(3) / 2) * na_k / total\n",
    "    return x, y\n",
    "\n",
    "def normalize_to_percentage(values):\n",
    "    total = np.sum(values)\n",
    "    return 100 * values / total\n",
    "\n",
    "cation_data = [\n",
    "    {'Ca': 60, 'Mg': 20, 'Na': 10, 'K': 5},\n",
    "    {'Ca': 40, 'Mg': 15, 'Na': 20, 'K': 10},\n",
    "    {'Ca': 50, 'Mg': 25, 'Na': 15, 'K': 8}\n",
    "]\n",
    "\n",
    "anion_data = [\n",
    "    {'Cl': 30, 'SO4': 50, 'HCO3': 70, 'CO3': 5},\n",
    "    {'Cl': 40, 'SO4': 60, 'HCO3': 50, 'CO3': 10},\n",
    "    {'Cl': 35, 'SO4': 55, 'HCO3': 65, 'CO3': 8}\n",
    "]\n",
    "\n",
    "cation_meq = []\n",
    "anion_meq = []\n",
    "\n",
    "for sample in cation_data:\n",
    "    ca_meq = mg_to_meq(sample['Ca'], weights['Ca'])\n",
    "    mg_meq = mg_to_meq(sample['Mg'], weights['Mg'])\n",
    "    na_k_meq = mg_to_meq(sample['Na'], weights['Na']) + mg_to_meq(sample['K'], weights['K'])\n",
    "    cation_meq.append([ca_meq, mg_meq, na_k_meq])\n",
    "\n",
    "for sample in anion_data:\n",
    "    cl_meq = mg_to_meq(sample['Cl'], weights['Cl'])\n",
    "    so4_meq = mg_to_meq(sample['SO4'], weights['SO4'])\n",
    "    hco3_co3_meq = mg_to_meq(sample['HCO3'], weights['HCO3']) + mg_to_meq(sample['CO3'], weights['CO3'])\n",
    "    anion_meq.append([cl_meq, so4_meq, hco3_co3_meq])\n",
    "\n",
    "cation_x = []\n",
    "cation_y = []\n",
    "anion_x = []\n",
    "anion_y = []\n",
    "\n",
    "for ca, mg, na_k in cation_meq:\n",
    "    normalized = normalize_to_percentage([ca, mg, na_k])\n",
    "    x, y = trilinear_transform(normalized[0], normalized[1], normalized[2])\n",
    "    cation_x.append(x)\n",
    "    cation_y.append(y)\n",
    "\n",
    "for cl, so4, hco3_co3 in anion_meq:\n",
    "    normalized = normalize_to_percentage([cl, so4, hco3_co3])\n",
    "    x, y = trilinear_transform(normalized[0], normalized[1], normalized[2])\n",
    "    anion_x.append(x)\n",
    "    anion_y.append(y)\n",
    "\n",
    "fig = go.Figure()\n",
    "\n",
    "# Cationes\n",
    "fig.add_trace(go.Scatter(\n",
    "    x=cation_x, y=cation_y, mode='markers',\n",
    "    name='Cations', marker=dict(color='red')\n",
    "))\n",
    "\n",
    "# Aniones\n",
    "fig.add_trace(go.Scatter(\n",
    "    x=anion_x, y=anion_y, mode='markers',\n",
    "    name='Anions', marker=dict(color='blue')\n",
    "))\n",
    "\n",
    "# Triángulos de los cationes y aniones\n",
    "triangle_x = [0, 0.5, 1, 0]\n",
    "triangle_y = [0, np.sqrt(3)/2, 0, 0]\n",
    "\n",
    "fig.add_trace(go.Scatter(\n",
    "    x=triangle_x, y=triangle_y, mode='lines',\n",
    "    line=dict(color='black'), showlegend=False\n",
    "))\n",
    "\n",
    "fig.add_trace(go.Scatter(\n",
    "    x=[0.5, 0.5], y=[0, np.sqrt(3)/2], mode='lines',\n",
    "    line=dict(color='black'), showlegend=False\n",
    "))\n",
    "\n",
    "fig.add_trace(go.Scatter(\n",
    "    x=[0, 1], y=[0, 0], mode='lines',\n",
    "    line=dict(color='black'), showlegend=False\n",
    "))\n",
    "\n",
    "fig.update_layout(\n",
    "    title='Piper Diagram',\n",
    "    xaxis_title='Cations and Anions',\n",
    "    yaxis=dict(scaleanchor=\"x\", scaleratio=1),\n",
    "    showlegend=True\n",
    ")\n",
    "\n",
    "fig.show()\n"
   ]
  },
  {
   "cell_type": "code",
   "execution_count": 4,
   "metadata": {},
   "outputs": [
    {
     "data": {
      "text/html": [
       "\n",
       "        <iframe\n",
       "            width=\"100%\"\n",
       "            height=\"650\"\n",
       "            src=\"http://127.0.0.1:54112/\"\n",
       "            frameborder=\"0\"\n",
       "            allowfullscreen\n",
       "            \n",
       "        ></iframe>\n",
       "        "
      ],
      "text/plain": [
       "<IPython.lib.display.IFrame at 0x25baef36030>"
      ]
     },
     "metadata": {},
     "output_type": "display_data"
    }
   ],
   "source": [
    "import dash\n",
    "import dash_core_components as dcc\n",
    "from dash import html\n",
    "import plotly.express as px\n",
    "import pandas as pd\n",
    "\n",
    "# Crear una aplicación Dash\n",
    "app = dash.Dash(__name__)\n",
    "\n",
    "# Crear un DataFrame de ejemplo\n",
    "df = pd.DataFrame({\n",
    "    \"Fruit\": [\"Apples\", \"Oranges\", \"Bananas\", \"Grapes\"],\n",
    "    \"Amount\": [4, 1, 2, 2],\n",
    "    \"City\": [\"SF\", \"SF\", \"SF\", \"Montreal\"]\n",
    "})\n",
    "\n",
    "# Crear un gráfico de barras con Plotly Express\n",
    "fig = px.bar(df, x=\"Fruit\", y=\"Amount\", color=\"City\", barmode=\"group\")\n",
    "\n",
    "# Definir el layout de la aplicación\n",
    "app.layout = html.Div(children=[\n",
    "    html.H1(children='Hello Dash'),\n",
    "\n",
    "    html.Div(children='''\n",
    "        Dash: A web application framework for Python.\n",
    "    '''),\n",
    "\n",
    "    dcc.Graph(\n",
    "        id='example-graph',\n",
    "        figure=fig\n",
    "    )\n",
    "])\n",
    "\n",
    "# Ejecutar la aplicación\n",
    "if __name__ == '__main__':\n",
    "    app.run_server(debug=True)\n"
   ]
  }
 ],
 "metadata": {
  "kernelspec": {
   "display_name": "env",
   "language": "python",
   "name": "python3"
  },
  "language_info": {
   "codemirror_mode": {
    "name": "ipython",
    "version": 3
   },
   "file_extension": ".py",
   "mimetype": "text/x-python",
   "name": "python",
   "nbconvert_exporter": "python",
   "pygments_lexer": "ipython3",
   "version": "3.12.0"
  }
 },
 "nbformat": 4,
 "nbformat_minor": 2
}
