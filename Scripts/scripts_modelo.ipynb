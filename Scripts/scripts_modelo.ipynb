{
 "cells": [
  {
   "cell_type": "markdown",
   "metadata": {},
   "source": [
    "Recorrer un directorio , buscando archivos por su extencion, por ej: \"xlsx\""
   ]
  },
  {
   "cell_type": "code",
   "execution_count": null,
   "metadata": {},
   "outputs": [],
   "source": [
    "import os\n",
    "\n",
    "directory_path = \"C:\\\\TU\\\\RUTA\"\n",
    "\n",
    "excel_files = [file for file in os.listdir(directory_path) if file.endswith(('.xlsx'))]"
   ]
  },
  {
   "cell_type": "markdown",
   "metadata": {},
   "source": [
    "Recorrer los archivos y ejecutar logica"
   ]
  },
  {
   "cell_type": "code",
   "execution_count": null,
   "metadata": {},
   "outputs": [],
   "source": [
    "import pandas as pd\n",
    "import openpyxl\n",
    "\n",
    "for file in excel_files:\n",
    "    file_path = os.path.join(directory_path, file)  # Construir la ruta completa al archivo\n",
    "    xls = pd.ExcelFile(file_path)\n",
    "    wb = openpyxl.load_workbook(file_path)\n",
    "    \n",
    "    # EJECUTAR LOGICA EN LOS ARCHIVOS, Y/O HOJAS"
   ]
  },
  {
   "cell_type": "markdown",
   "metadata": {},
   "source": [
    "ELIMINAR UNA COLUMNA POR SU UBICACION NUMERICA"
   ]
  },
  {
   "cell_type": "code",
   "execution_count": null,
   "metadata": {},
   "outputs": [],
   "source": [
    "import pandas as pd\n",
    "\n",
    "data_df.drop(data_df.columns[1], axis=1, inplace=True)"
   ]
  }
 ],
 "metadata": {
  "kernelspec": {
   "display_name": "env",
   "language": "python",
   "name": "python3"
  },
  "language_info": {
   "codemirror_mode": {
    "name": "ipython",
    "version": 3
   },
   "file_extension": ".py",
   "mimetype": "text/x-python",
   "name": "python",
   "nbconvert_exporter": "python",
   "pygments_lexer": "ipython3",
   "version": "3.12.0"
  }
 },
 "nbformat": 4,
 "nbformat_minor": 2
}
