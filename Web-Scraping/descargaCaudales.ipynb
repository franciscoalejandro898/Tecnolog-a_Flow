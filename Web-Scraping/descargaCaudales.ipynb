{
 "cells": [
  {
   "cell_type": "markdown",
   "metadata": {},
   "source": [
    "SCRIPT DESCARGA DE CAUDALES EN AUTOMATICO"
   ]
  },
  {
   "cell_type": "code",
   "execution_count": 14,
   "metadata": {},
   "outputs": [
    {
     "name": "stdout",
     "output_type": "stream",
     "text": [
      "Cerrando el navegador\n"
     ]
    }
   ],
   "source": [
    "import os\n",
    "from selenium import webdriver\n",
    "from selenium.webdriver.common.by import By\n",
    "from selenium.webdriver.support.ui import WebDriverWait, Select\n",
    "from selenium.webdriver.support import expected_conditions as EC\n",
    "import time\n",
    "\n",
    "# Configurar el driver de Chrome\n",
    "def configure_driver(download_path):\n",
    "    options = webdriver.ChromeOptions()\n",
    "    prefs = {\n",
    "        \"download.default_directory\": download_path,\n",
    "        \"profile.default_content_settings.popups\": 0,\n",
    "        \"download.prompt_for_download\": False,\n",
    "        \"directory_upgrade\": True,\n",
    "    }\n",
    "    options.add_experimental_option(\"prefs\", prefs)\n",
    "    driver = webdriver.Chrome(options=options)\n",
    "    return driver\n",
    "\n",
    "# Ruta base de descarga\n",
    "base_download_path = r\"C:\\Users\\fdona\\OneDrive - Flow\\Escritorio\\DESCARGAS_SQM\"  # Reemplaza con tu ruta de descarga\n",
    "\n",
    "# Configurar el driver para las descargas\n",
    "driver = configure_driver(base_download_path)\n",
    "\n",
    "try:\n",
    "    driver.get(\"https://www.sqmsenlinea.com/agua-industrial/118\")\n",
    "    WebDriverWait(driver, 10).until(\n",
    "        EC.visibility_of_element_located((By.CSS_SELECTOR, \"select#acp_id\"))\n",
    "    )\n",
    "\n",
    "    # Seleccionar el dropdown dejandolo disponible\n",
    "    select_acp = WebDriverWait(driver, 10).until(EC.presence_of_element_located((By.CSS_SELECTOR, \"select#acp_id\")))\n",
    "    select = Select(select_acp)\n",
    "    options = select.options\n",
    "    # Iterar sobre las opciones del dropdown\n",
    "    \n",
    "    for element in range(1, len(select.options)):\n",
    "        select.select_by_index(element)\n",
    "        time.sleep(5)\n",
    "        # Seleccionar la descarga de archivo\n",
    "        driver.find_element(By.CSS_SELECTOR, \"a.btn.btn--white.download_button\").click()\n",
    "        \n",
    "        time.sleep(5)\n",
    "        \n",
    "        # Vuelve a seleccionar el dropdown\n",
    "        select_acp = WebDriverWait(driver, 10).until(EC.presence_of_element_located((By.CSS_SELECTOR, \"select#acp_id\")))\n",
    "        select = Select(select_acp)\n",
    "        options = select.options\n",
    "\n",
    "     \n",
    "\n",
    "except Exception as e:\n",
    "    print(f\"Ha ocurrido un error: {e}\")\n",
    "finally:\n",
    "    print(\"Proceso completado\")\n"
   ]
  },
  {
   "cell_type": "markdown",
   "metadata": {},
   "source": [
    "PROCESAR LAS DESCARGAS DE CAUDALES"
   ]
  }
 ],
 "metadata": {
  "kernelspec": {
   "display_name": "env",
   "language": "python",
   "name": "python3"
  },
  "language_info": {
   "codemirror_mode": {
    "name": "ipython",
    "version": 3
   },
   "file_extension": ".py",
   "mimetype": "text/x-python",
   "name": "python",
   "nbconvert_exporter": "python",
   "pygments_lexer": "ipython3",
   "version": "3.12.0"
  }
 },
 "nbformat": 4,
 "nbformat_minor": 2
}
