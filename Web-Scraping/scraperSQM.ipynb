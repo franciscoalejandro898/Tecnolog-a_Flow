{
 "cells": [
  {
   "cell_type": "code",
   "execution_count": 2,
   "metadata": {},
   "outputs": [],
   "source": [
    "\n",
    "from selenium import webdriver\n",
    "from selenium.webdriver.support.ui import Select\n",
    "import time\n",
    "from selenium.webdriver.support.ui import WebDriverWait\n",
    "from selenium.webdriver.support.ui import WebDriverWait\n",
    "from selenium.webdriver.support import expected_conditions as EC\n",
    "from selenium.webdriver.common.by import By\n",
    "from selenium.webdriver.common.action_chains import ActionChains\n",
    "\n",
    "driver = webdriver.Chrome()\n",
    "\n",
    "# peticion get\n",
    "driver.get(\"https://www.sqmsenlinea.com/env-systems?type=followup\")\n",
    "# contiene el NIVELES\n",
    "select_element = driver.find_element(\"css selector\", \"#data_source_type_id\")\n",
    "select = Select(select_element)\n",
    "select.select_by_value(\"6\")\n",
    "time.sleep(5)\n",
    "\n",
    "# # Elemento q contiene el select\n",
    "# select_element = driver.find_element(\"css selector\", \"select[name='environmental_system_id']\")\n",
    "\n",
    "\n",
    "# select = Select(select_element)\n",
    "\n",
    "# # select x valor de id de SISTEMA\n",
    "# select.select_by_value(\"19\")\n",
    "\n",
    "\n",
    "# time.sleep(5)"
   ]
  },
  {
   "cell_type": "markdown",
   "metadata": {},
   "source": [
    "Iterando sistema y subsistema:"
   ]
  },
  {
   "cell_type": "code",
   "execution_count": 41,
   "metadata": {},
   "outputs": [],
   "source": [
    "select_element = driver.find_element(\"css selector\", \"select[name='environmental_system_id']\")\n",
    "\n",
    "select = Select(select_element)\n",
    "# select.select_by_value(\"19\")\n",
    "\n",
    "option = select.options\n",
    "for i in range(1, len(option)):\n",
    "    select.select_by_index(i)\n",
    "    subsistema = driver.find_element(\"css selector\", \"select[name='children_id']\")\n",
    "    select_subsistema = Select(subsistema)\n",
    "    option_subsistema = select_subsistema.options\n",
    "    time.sleep(5)\n",
    "    if len(option_subsistema) <= 10:\n",
    "        # print(\"No hay subsistemas\")\n",
    "        # select_element = WebDriverWait(driver, 10).until(EC.presence_of_element_located((By.NAME, \"infrastructure_id\")))\n",
    "        # select = Select(select_element)\n",
    "        # option = select.options\n",
    "        # print(option)\n",
    "        # for elements in range(1, len(option)):\n",
    "        #     time.sleep(5)\n",
    "        #     select.select_by_index(elements) \n",
    "\n",
    "    \n",
    "        #     time.sleep(5)#se espera 5 segundos antes de seleccionar el boton de descarga\n",
    "        #     next\n",
    "        #     # #descarga\n",
    "        #     # download_button = WebDriverWait(driver, 10).until(EC.presence_of_element_located((By.ID, \"export-btn-niveles-manuales\")))\n",
    "        #     # download_button.click()\n",
    "\n",
    "        #     # #tiempo de espera por retraso de la web en desacarga\n",
    "        #     # time.sleep(10)\n",
    "\n",
    "    \n",
    "        #     select_element = WebDriverWait(driver, 10).until(EC.presence_of_element_located((By.NAME, \"infrastructure_id\")))\n",
    "        #     select = Select(select_element)\n",
    "        #     options = select.options\n",
    "\n",
    "        driver.get(\"https://www.sqmsenlinea.com/env-systems?type=followup\")\n",
    "        # contiene el NIVELES\n",
    "        time.sleep(5)\n",
    "        select_element = driver.find_element(\"css selector\", \"#data_source_type_id\")\n",
    "        select = Select(select_element)\n",
    "        select.select_by_value(\"6\")\n",
    "        time.sleep(5)\n",
    "        \n",
    "    select_element = driver.find_element(\"css selector\", \"select[name='environmental_system_id']\")\n",
    "\n",
    "    select = Select(select_element)"
   ]
  },
  {
   "cell_type": "markdown",
   "metadata": {},
   "source": [
    "ITERADOR DE OPCIONES:"
   ]
  },
  {
   "cell_type": "code",
   "execution_count": 2,
   "metadata": {},
   "outputs": [
    {
     "name": "stdout",
     "output_type": "stream",
     "text": [
      "[<selenium.webdriver.remote.webelement.WebElement (session=\"393af1c8d15fed901dfe566abb2359e1\", element=\"f.CE1408BD279660AF98FDC7B45C61B3AD.d.91AE2D2EDC63D340E7F52BEA148D66EF.e.133\")>, <selenium.webdriver.remote.webelement.WebElement (session=\"393af1c8d15fed901dfe566abb2359e1\", element=\"f.CE1408BD279660AF98FDC7B45C61B3AD.d.91AE2D2EDC63D340E7F52BEA148D66EF.e.135\")>, <selenium.webdriver.remote.webelement.WebElement (session=\"393af1c8d15fed901dfe566abb2359e1\", element=\"f.CE1408BD279660AF98FDC7B45C61B3AD.d.91AE2D2EDC63D340E7F52BEA148D66EF.e.137\")>, <selenium.webdriver.remote.webelement.WebElement (session=\"393af1c8d15fed901dfe566abb2359e1\", element=\"f.CE1408BD279660AF98FDC7B45C61B3AD.d.91AE2D2EDC63D340E7F52BEA148D66EF.e.139\")>, <selenium.webdriver.remote.webelement.WebElement (session=\"393af1c8d15fed901dfe566abb2359e1\", element=\"f.CE1408BD279660AF98FDC7B45C61B3AD.d.91AE2D2EDC63D340E7F52BEA148D66EF.e.141\")>, <selenium.webdriver.remote.webelement.WebElement (session=\"393af1c8d15fed901dfe566abb2359e1\", element=\"f.CE1408BD279660AF98FDC7B45C61B3AD.d.91AE2D2EDC63D340E7F52BEA148D66EF.e.143\")>, <selenium.webdriver.remote.webelement.WebElement (session=\"393af1c8d15fed901dfe566abb2359e1\", element=\"f.CE1408BD279660AF98FDC7B45C61B3AD.d.91AE2D2EDC63D340E7F52BEA148D66EF.e.145\")>, <selenium.webdriver.remote.webelement.WebElement (session=\"393af1c8d15fed901dfe566abb2359e1\", element=\"f.CE1408BD279660AF98FDC7B45C61B3AD.d.91AE2D2EDC63D340E7F52BEA148D66EF.e.147\")>, <selenium.webdriver.remote.webelement.WebElement (session=\"393af1c8d15fed901dfe566abb2359e1\", element=\"f.CE1408BD279660AF98FDC7B45C61B3AD.d.91AE2D2EDC63D340E7F52BEA148D66EF.e.149\")>, <selenium.webdriver.remote.webelement.WebElement (session=\"393af1c8d15fed901dfe566abb2359e1\", element=\"f.CE1408BD279660AF98FDC7B45C61B3AD.d.91AE2D2EDC63D340E7F52BEA148D66EF.e.151\")>, <selenium.webdriver.remote.webelement.WebElement (session=\"393af1c8d15fed901dfe566abb2359e1\", element=\"f.CE1408BD279660AF98FDC7B45C61B3AD.d.91AE2D2EDC63D340E7F52BEA148D66EF.e.153\")>, <selenium.webdriver.remote.webelement.WebElement (session=\"393af1c8d15fed901dfe566abb2359e1\", element=\"f.CE1408BD279660AF98FDC7B45C61B3AD.d.91AE2D2EDC63D340E7F52BEA148D66EF.e.155\")>, <selenium.webdriver.remote.webelement.WebElement (session=\"393af1c8d15fed901dfe566abb2359e1\", element=\"f.CE1408BD279660AF98FDC7B45C61B3AD.d.91AE2D2EDC63D340E7F52BEA148D66EF.e.157\")>, <selenium.webdriver.remote.webelement.WebElement (session=\"393af1c8d15fed901dfe566abb2359e1\", element=\"f.CE1408BD279660AF98FDC7B45C61B3AD.d.91AE2D2EDC63D340E7F52BEA148D66EF.e.159\")>, <selenium.webdriver.remote.webelement.WebElement (session=\"393af1c8d15fed901dfe566abb2359e1\", element=\"f.CE1408BD279660AF98FDC7B45C61B3AD.d.91AE2D2EDC63D340E7F52BEA148D66EF.e.161\")>, <selenium.webdriver.remote.webelement.WebElement (session=\"393af1c8d15fed901dfe566abb2359e1\", element=\"f.CE1408BD279660AF98FDC7B45C61B3AD.d.91AE2D2EDC63D340E7F52BEA148D66EF.e.163\")>, <selenium.webdriver.remote.webelement.WebElement (session=\"393af1c8d15fed901dfe566abb2359e1\", element=\"f.CE1408BD279660AF98FDC7B45C61B3AD.d.91AE2D2EDC63D340E7F52BEA148D66EF.e.165\")>, <selenium.webdriver.remote.webelement.WebElement (session=\"393af1c8d15fed901dfe566abb2359e1\", element=\"f.CE1408BD279660AF98FDC7B45C61B3AD.d.91AE2D2EDC63D340E7F52BEA148D66EF.e.167\")>, <selenium.webdriver.remote.webelement.WebElement (session=\"393af1c8d15fed901dfe566abb2359e1\", element=\"f.CE1408BD279660AF98FDC7B45C61B3AD.d.91AE2D2EDC63D340E7F52BEA148D66EF.e.169\")>, <selenium.webdriver.remote.webelement.WebElement (session=\"393af1c8d15fed901dfe566abb2359e1\", element=\"f.CE1408BD279660AF98FDC7B45C61B3AD.d.91AE2D2EDC63D340E7F52BEA148D66EF.e.171\")>, <selenium.webdriver.remote.webelement.WebElement (session=\"393af1c8d15fed901dfe566abb2359e1\", element=\"f.CE1408BD279660AF98FDC7B45C61B3AD.d.91AE2D2EDC63D340E7F52BEA148D66EF.e.173\")>, <selenium.webdriver.remote.webelement.WebElement (session=\"393af1c8d15fed901dfe566abb2359e1\", element=\"f.CE1408BD279660AF98FDC7B45C61B3AD.d.91AE2D2EDC63D340E7F52BEA148D66EF.e.175\")>, <selenium.webdriver.remote.webelement.WebElement (session=\"393af1c8d15fed901dfe566abb2359e1\", element=\"f.CE1408BD279660AF98FDC7B45C61B3AD.d.91AE2D2EDC63D340E7F52BEA148D66EF.e.177\")>, <selenium.webdriver.remote.webelement.WebElement (session=\"393af1c8d15fed901dfe566abb2359e1\", element=\"f.CE1408BD279660AF98FDC7B45C61B3AD.d.91AE2D2EDC63D340E7F52BEA148D66EF.e.179\")>, <selenium.webdriver.remote.webelement.WebElement (session=\"393af1c8d15fed901dfe566abb2359e1\", element=\"f.CE1408BD279660AF98FDC7B45C61B3AD.d.91AE2D2EDC63D340E7F52BEA148D66EF.e.181\")>, <selenium.webdriver.remote.webelement.WebElement (session=\"393af1c8d15fed901dfe566abb2359e1\", element=\"f.CE1408BD279660AF98FDC7B45C61B3AD.d.91AE2D2EDC63D340E7F52BEA148D66EF.e.183\")>, <selenium.webdriver.remote.webelement.WebElement (session=\"393af1c8d15fed901dfe566abb2359e1\", element=\"f.CE1408BD279660AF98FDC7B45C61B3AD.d.91AE2D2EDC63D340E7F52BEA148D66EF.e.185\")>, <selenium.webdriver.remote.webelement.WebElement (session=\"393af1c8d15fed901dfe566abb2359e1\", element=\"f.CE1408BD279660AF98FDC7B45C61B3AD.d.91AE2D2EDC63D340E7F52BEA148D66EF.e.187\")>, <selenium.webdriver.remote.webelement.WebElement (session=\"393af1c8d15fed901dfe566abb2359e1\", element=\"f.CE1408BD279660AF98FDC7B45C61B3AD.d.91AE2D2EDC63D340E7F52BEA148D66EF.e.189\")>, <selenium.webdriver.remote.webelement.WebElement (session=\"393af1c8d15fed901dfe566abb2359e1\", element=\"f.CE1408BD279660AF98FDC7B45C61B3AD.d.91AE2D2EDC63D340E7F52BEA148D66EF.e.191\")>, <selenium.webdriver.remote.webelement.WebElement (session=\"393af1c8d15fed901dfe566abb2359e1\", element=\"f.CE1408BD279660AF98FDC7B45C61B3AD.d.91AE2D2EDC63D340E7F52BEA148D66EF.e.193\")>, <selenium.webdriver.remote.webelement.WebElement (session=\"393af1c8d15fed901dfe566abb2359e1\", element=\"f.CE1408BD279660AF98FDC7B45C61B3AD.d.91AE2D2EDC63D340E7F52BEA148D66EF.e.195\")>, <selenium.webdriver.remote.webelement.WebElement (session=\"393af1c8d15fed901dfe566abb2359e1\", element=\"f.CE1408BD279660AF98FDC7B45C61B3AD.d.91AE2D2EDC63D340E7F52BEA148D66EF.e.197\")>, <selenium.webdriver.remote.webelement.WebElement (session=\"393af1c8d15fed901dfe566abb2359e1\", element=\"f.CE1408BD279660AF98FDC7B45C61B3AD.d.91AE2D2EDC63D340E7F52BEA148D66EF.e.199\")>, <selenium.webdriver.remote.webelement.WebElement (session=\"393af1c8d15fed901dfe566abb2359e1\", element=\"f.CE1408BD279660AF98FDC7B45C61B3AD.d.91AE2D2EDC63D340E7F52BEA148D66EF.e.201\")>, <selenium.webdriver.remote.webelement.WebElement (session=\"393af1c8d15fed901dfe566abb2359e1\", element=\"f.CE1408BD279660AF98FDC7B45C61B3AD.d.91AE2D2EDC63D340E7F52BEA148D66EF.e.203\")>, <selenium.webdriver.remote.webelement.WebElement (session=\"393af1c8d15fed901dfe566abb2359e1\", element=\"f.CE1408BD279660AF98FDC7B45C61B3AD.d.91AE2D2EDC63D340E7F52BEA148D66EF.e.205\")>, <selenium.webdriver.remote.webelement.WebElement (session=\"393af1c8d15fed901dfe566abb2359e1\", element=\"f.CE1408BD279660AF98FDC7B45C61B3AD.d.91AE2D2EDC63D340E7F52BEA148D66EF.e.207\")>, <selenium.webdriver.remote.webelement.WebElement (session=\"393af1c8d15fed901dfe566abb2359e1\", element=\"f.CE1408BD279660AF98FDC7B45C61B3AD.d.91AE2D2EDC63D340E7F52BEA148D66EF.e.209\")>, <selenium.webdriver.remote.webelement.WebElement (session=\"393af1c8d15fed901dfe566abb2359e1\", element=\"f.CE1408BD279660AF98FDC7B45C61B3AD.d.91AE2D2EDC63D340E7F52BEA148D66EF.e.211\")>, <selenium.webdriver.remote.webelement.WebElement (session=\"393af1c8d15fed901dfe566abb2359e1\", element=\"f.CE1408BD279660AF98FDC7B45C61B3AD.d.91AE2D2EDC63D340E7F52BEA148D66EF.e.213\")>, <selenium.webdriver.remote.webelement.WebElement (session=\"393af1c8d15fed901dfe566abb2359e1\", element=\"f.CE1408BD279660AF98FDC7B45C61B3AD.d.91AE2D2EDC63D340E7F52BEA148D66EF.e.215\")>, <selenium.webdriver.remote.webelement.WebElement (session=\"393af1c8d15fed901dfe566abb2359e1\", element=\"f.CE1408BD279660AF98FDC7B45C61B3AD.d.91AE2D2EDC63D340E7F52BEA148D66EF.e.217\")>, <selenium.webdriver.remote.webelement.WebElement (session=\"393af1c8d15fed901dfe566abb2359e1\", element=\"f.CE1408BD279660AF98FDC7B45C61B3AD.d.91AE2D2EDC63D340E7F52BEA148D66EF.e.219\")>, <selenium.webdriver.remote.webelement.WebElement (session=\"393af1c8d15fed901dfe566abb2359e1\", element=\"f.CE1408BD279660AF98FDC7B45C61B3AD.d.91AE2D2EDC63D340E7F52BEA148D66EF.e.221\")>, <selenium.webdriver.remote.webelement.WebElement (session=\"393af1c8d15fed901dfe566abb2359e1\", element=\"f.CE1408BD279660AF98FDC7B45C61B3AD.d.91AE2D2EDC63D340E7F52BEA148D66EF.e.223\")>, <selenium.webdriver.remote.webelement.WebElement (session=\"393af1c8d15fed901dfe566abb2359e1\", element=\"f.CE1408BD279660AF98FDC7B45C61B3AD.d.91AE2D2EDC63D340E7F52BEA148D66EF.e.225\")>, <selenium.webdriver.remote.webelement.WebElement (session=\"393af1c8d15fed901dfe566abb2359e1\", element=\"f.CE1408BD279660AF98FDC7B45C61B3AD.d.91AE2D2EDC63D340E7F52BEA148D66EF.e.227\")>, <selenium.webdriver.remote.webelement.WebElement (session=\"393af1c8d15fed901dfe566abb2359e1\", element=\"f.CE1408BD279660AF98FDC7B45C61B3AD.d.91AE2D2EDC63D340E7F52BEA148D66EF.e.229\")>, <selenium.webdriver.remote.webelement.WebElement (session=\"393af1c8d15fed901dfe566abb2359e1\", element=\"f.CE1408BD279660AF98FDC7B45C61B3AD.d.91AE2D2EDC63D340E7F52BEA148D66EF.e.231\")>, <selenium.webdriver.remote.webelement.WebElement (session=\"393af1c8d15fed901dfe566abb2359e1\", element=\"f.CE1408BD279660AF98FDC7B45C61B3AD.d.91AE2D2EDC63D340E7F52BEA148D66EF.e.233\")>, <selenium.webdriver.remote.webelement.WebElement (session=\"393af1c8d15fed901dfe566abb2359e1\", element=\"f.CE1408BD279660AF98FDC7B45C61B3AD.d.91AE2D2EDC63D340E7F52BEA148D66EF.e.235\")>, <selenium.webdriver.remote.webelement.WebElement (session=\"393af1c8d15fed901dfe566abb2359e1\", element=\"f.CE1408BD279660AF98FDC7B45C61B3AD.d.91AE2D2EDC63D340E7F52BEA148D66EF.e.237\")>, <selenium.webdriver.remote.webelement.WebElement (session=\"393af1c8d15fed901dfe566abb2359e1\", element=\"f.CE1408BD279660AF98FDC7B45C61B3AD.d.91AE2D2EDC63D340E7F52BEA148D66EF.e.239\")>, <selenium.webdriver.remote.webelement.WebElement (session=\"393af1c8d15fed901dfe566abb2359e1\", element=\"f.CE1408BD279660AF98FDC7B45C61B3AD.d.91AE2D2EDC63D340E7F52BEA148D66EF.e.241\")>, <selenium.webdriver.remote.webelement.WebElement (session=\"393af1c8d15fed901dfe566abb2359e1\", element=\"f.CE1408BD279660AF98FDC7B45C61B3AD.d.91AE2D2EDC63D340E7F52BEA148D66EF.e.243\")>, <selenium.webdriver.remote.webelement.WebElement (session=\"393af1c8d15fed901dfe566abb2359e1\", element=\"f.CE1408BD279660AF98FDC7B45C61B3AD.d.91AE2D2EDC63D340E7F52BEA148D66EF.e.245\")>, <selenium.webdriver.remote.webelement.WebElement (session=\"393af1c8d15fed901dfe566abb2359e1\", element=\"f.CE1408BD279660AF98FDC7B45C61B3AD.d.91AE2D2EDC63D340E7F52BEA148D66EF.e.247\")>, <selenium.webdriver.remote.webelement.WebElement (session=\"393af1c8d15fed901dfe566abb2359e1\", element=\"f.CE1408BD279660AF98FDC7B45C61B3AD.d.91AE2D2EDC63D340E7F52BEA148D66EF.e.249\")>, <selenium.webdriver.remote.webelement.WebElement (session=\"393af1c8d15fed901dfe566abb2359e1\", element=\"f.CE1408BD279660AF98FDC7B45C61B3AD.d.91AE2D2EDC63D340E7F52BEA148D66EF.e.251\")>, <selenium.webdriver.remote.webelement.WebElement (session=\"393af1c8d15fed901dfe566abb2359e1\", element=\"f.CE1408BD279660AF98FDC7B45C61B3AD.d.91AE2D2EDC63D340E7F52BEA148D66EF.e.253\")>, <selenium.webdriver.remote.webelement.WebElement (session=\"393af1c8d15fed901dfe566abb2359e1\", element=\"f.CE1408BD279660AF98FDC7B45C61B3AD.d.91AE2D2EDC63D340E7F52BEA148D66EF.e.255\")>, <selenium.webdriver.remote.webelement.WebElement (session=\"393af1c8d15fed901dfe566abb2359e1\", element=\"f.CE1408BD279660AF98FDC7B45C61B3AD.d.91AE2D2EDC63D340E7F52BEA148D66EF.e.257\")>]\n"
     ]
    },
    {
     "ename": "KeyboardInterrupt",
     "evalue": "",
     "output_type": "error",
     "traceback": [
      "\u001b[1;31m---------------------------------------------------------------------------\u001b[0m",
      "\u001b[1;31mKeyboardInterrupt\u001b[0m                         Traceback (most recent call last)",
      "Cell \u001b[1;32mIn[2], line 23\u001b[0m\n\u001b[0;32m     20\u001b[0m download_button\u001b[38;5;241m.\u001b[39mclick()\n\u001b[0;32m     22\u001b[0m \u001b[38;5;66;03m#tiempo de espera por retraso de la web en desacarga\u001b[39;00m\n\u001b[1;32m---> 23\u001b[0m \u001b[43mtime\u001b[49m\u001b[38;5;241;43m.\u001b[39;49m\u001b[43msleep\u001b[49m\u001b[43m(\u001b[49m\u001b[38;5;241;43m10\u001b[39;49m\u001b[43m)\u001b[49m\n\u001b[0;32m     26\u001b[0m select_element \u001b[38;5;241m=\u001b[39m WebDriverWait(driver, \u001b[38;5;241m10\u001b[39m)\u001b[38;5;241m.\u001b[39muntil(EC\u001b[38;5;241m.\u001b[39mpresence_of_element_located((By\u001b[38;5;241m.\u001b[39mNAME, \u001b[38;5;124m\"\u001b[39m\u001b[38;5;124minfrastructure_id\u001b[39m\u001b[38;5;124m\"\u001b[39m)))\n\u001b[0;32m     27\u001b[0m select \u001b[38;5;241m=\u001b[39m Select(select_element)\n",
      "\u001b[1;31mKeyboardInterrupt\u001b[0m: "
     ]
    }
   ],
   "source": [
    "\n",
    "\n",
    "\n",
    "\n",
    "# ENCONTRAR el elemento infraestructura\n",
    "select_element = WebDriverWait(driver, 10).until(EC.presence_of_element_located((By.NAME, \"infrastructure_id\")))\n",
    "select = Select(select_element)\n",
    "\n",
    "\n",
    "option = select.options\n",
    "\n",
    "print(option)\n",
    "\n",
    "\n",
    "for index in range(1, len(option)):\n",
    "    \n",
    "    select.select_by_index(index) \n",
    "\n",
    "    \n",
    "    time.sleep(5)#se espera 5 segundos antes de seleccionar el boton de descarga\n",
    "\n",
    "    #descarga\n",
    "    download_button = WebDriverWait(driver, 10).until(EC.presence_of_element_located((By.ID, \"export-btn-niveles-manuales\")))\n",
    "    download_button.click()\n",
    "\n",
    "    #tiempo de espera por retraso de la web en desacarga\n",
    "    time.sleep(10)\n",
    "\n",
    "    \n",
    "    select_element = WebDriverWait(driver, 10).until(EC.presence_of_element_located((By.NAME, \"infrastructure_id\")))\n",
    "    select = Select(select_element)\n",
    "    options = select.options"
   ]
  }
 ],
 "metadata": {
  "kernelspec": {
   "display_name": "env",
   "language": "python",
   "name": "python3"
  },
  "language_info": {
   "codemirror_mode": {
    "name": "ipython",
    "version": 3
   },
   "file_extension": ".py",
   "mimetype": "text/x-python",
   "name": "python",
   "nbconvert_exporter": "python",
   "pygments_lexer": "ipython3",
   "version": "3.12.2"
  }
 },
 "nbformat": 4,
 "nbformat_minor": 2
}
